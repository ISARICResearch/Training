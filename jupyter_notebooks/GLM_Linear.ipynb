{
  "nbformat": 4,
  "nbformat_minor": 0,
  "metadata": {
    "colab": {
      "provenance": []
    },
    "kernelspec": {
      "name": "python3",
      "display_name": "Python 3"
    },
    "language_info": {
      "name": "python"
    }
  },
  "cells": [
    {
      "cell_type": "code",
      "execution_count": null,
      "metadata": {
        "id": "tcZSGNhirSvP"
      },
      "outputs": [],
      "source": []
    },
    {
      "cell_type": "markdown",
      "source": [
        "# Linear Regression Code Documentation"
      ],
      "metadata": {
        "id": "FunXMliOrWCs"
      }
    },
    {
      "cell_type": "markdown",
      "source": [
        "## Concept"
      ],
      "metadata": {
        "id": "coByEaOREibI"
      }
    },
    {
      "cell_type": "markdown",
      "source": [
        "Linear regression is a fundamental statistical method used to model the relationship between a continuous dependent variable (also called the response or target variable) and one or more independent variables (also called predictors, explanatory variables, or features). The purpose of linear regression is to establish a mathematical equation that best describes this relationship, allowing for interpretation and prediction."
      ],
      "metadata": {
        "id": "mKaHXG8XEm1J"
      }
    },
    {
      "cell_type": "markdown",
      "source": [
        "### Mathematical Representation"
      ],
      "metadata": {
        "id": "dObNKwYvFMxL"
      }
    },
    {
      "cell_type": "markdown",
      "source": [
        "In its simplest form, simple linear regression models the relationship between one independent variable and one dependent variable using the following equation: <dt> $$ \\displaystyle Y = \\beta_0 + \\beta_1 X + \\varepsilon $$ </dt>\n",
        "\n",
        "\n",
        "    "
      ],
      "metadata": {
        "id": "GJ7n41neFOiy"
      }
    },
    {
      "cell_type": "markdown",
      "source": [
        "Where:\n",
        "\n",
        "\n",
        "Y → The dependent variable (response), which must be continuous\n",
        "\n",
        "X → The independent variable (predictor), which can be continuous  or categorical\n",
        "\n",
        "𝛽0 → The intercept, representing the expected value of Y when X = 0\n",
        "\n",
        "𝛽1 → The regression coefficient, indicating how much Y changes for each unit increase in X.\n",
        "\n",
        "ε → The error term, representing random variability in Y that is not explained by X."
      ],
      "metadata": {
        "id": "iXEgzX5eIC9o"
      }
    },
    {
      "cell_type": "markdown",
      "source": [
        "When there are multiple independent variables, we use multiple linear regression, which extends the equation to:<dt> $$ \\displaystyle Y = \\beta_0 + \\beta_1 X_1 + \\beta_2 X_2 + \\dots + \\beta_n X_n + \\varepsilon $$ </dt>"
      ],
      "metadata": {
        "id": "4NdYOl_5KasQ"
      }
    },
    {
      "cell_type": "markdown",
      "source": [
        "Where:\n",
        "\n",
        "\n",
        "\n",
        "* X1,X2,…,Xn are the independent variables.\n",
        "\n",
        "* 𝛽1,𝛽2,…,𝛽𝑛 are their respective regression coefficients."
      ],
      "metadata": {
        "id": "vZxN-6PZMaCw"
      }
    },
    {
      "cell_type": "markdown",
      "source": [
        "### Estimation of the Coefficients"
      ],
      "metadata": {
        "id": "ry07FLz8Lzx8"
      }
    },
    {
      "cell_type": "markdown",
      "source": [
        "The coefficients in linear regression are estimated using the method of Ordinary Least Squares (OLS), which minimizes the sum of the squared differences between the observed and predicted values.\n",
        "\n"
      ],
      "metadata": {
        "id": "ux_YHJgeL7XC"
      }
    },
    {
      "cell_type": "markdown",
      "source": [
        "### Observations"
      ],
      "metadata": {
        "id": "edyDUI8TNYVS"
      }
    },
    {
      "cell_type": "markdown",
      "source": [
        "\n",
        "**Linearity** → The relationship between independent and dependent variables must be linear.\n",
        "\n",
        "**Independence** → Observations must be independent of each other.\n",
        "\n",
        "**Homoscedasticity** → The variance of residuals (errors) should be constant across all levels of X.\n",
        "\n",
        "**Normality of Errors** → Residuals should be approximately normally distributed.\n",
        "\n",
        "**No Multicollinearity** → Independent variables should not be highly correlated with each other.\n"
      ],
      "metadata": {
        "id": "DeUOM2lTNllZ"
      }
    },
    {
      "cell_type": "markdown",
      "source": [
        "### Interpreting Linear Regression"
      ],
      "metadata": {
        "id": "mHpc0pk6kUfQ"
      }
    },
    {
      "cell_type": "markdown",
      "source": [
        "**1. Coefficients (β)**\n",
        "\n",
        "In linear regression, the estimated coefficients (β) represent the change in the dependent variable for a one-unit increase in the predictor variable, assuming all other variables are held constant.\n",
        "\n",
        "* If β > 0, an increase in the predictor variable is associated with an increase in the dependent variable.\n",
        "\n",
        "* If β < 0, an increase in the predictor variable is associated with a decrease in the dependent variable.\n",
        "\n",
        "* If β = 0, the predictor variable has no effect on the dependent variable."
      ],
      "metadata": {
        "id": "eabfEDpOkYbX"
      }
    },
    {
      "cell_type": "markdown",
      "source": [
        "**2. Confidence Intervals (CI)**\n",
        "\n",
        "\n",
        "To determine the reliability of the estimated coefficient, we compute a confidence interval (usually 95%):\n",
        "\n",
        "<dt> $$ CI = \\left[\\beta - 1.96 \\cdot \\sigma, \\, \\beta + 1.96 \\cdot \\sigma\\right] $$ </dt>\n",
        "\n",
        "* If the interval does not include 0, the effect of the variable is statistically significant.\n",
        "\n",
        "* If the interval includes 0, the effect may not be significant."
      ],
      "metadata": {
        "id": "iOMvU26alNLB"
      }
    },
    {
      "cell_type": "markdown",
      "source": [
        "**3. p-value**\n",
        "\n",
        "The p-value tests the null hypothesis that the coefficient is zero , meaning the predictor variable has no effect on the dependent variable.\n",
        "\n",
        "* If p < 0.05, the effect is statistically significant.\n",
        "\n",
        "* If p ≥ 0.05, there is insufficient evidence that the variable affects the dependent variable.\n",
        "\n"
      ],
      "metadata": {
        "id": "LuLMb_EzmTmT"
      }
    },
    {
      "cell_type": "markdown",
      "source": [
        "### Adventages of Linear Regression"
      ],
      "metadata": {
        "id": "FM7mTv0lKgZ0"
      }
    },
    {
      "cell_type": "markdown",
      "source": [
        "* **Simplicity**: Easy to implement and interpret.\n",
        "\n",
        "* **Interpretability**: Coefficients have a clear and direct interpretation in terms of effect size.\n",
        "\n",
        "* **Efficiency**: Computationally fast, especially for small to medium-sized datasets.\n",
        "\n",
        "* **Good baseline**: Often serves as a solid baseline model before exploring more complex methods.\n",
        "\n",
        "* **Analytical properties**: Well-understood statistical properties under standard assumptions.\n",
        "\n"
      ],
      "metadata": {
        "id": "q8XaxTEKKmw7"
      }
    },
    {
      "cell_type": "markdown",
      "source": [
        "### Limitations of Linear Regression\n"
      ],
      "metadata": {
        "id": "pAFTvGZCKx94"
      }
    },
    {
      "cell_type": "markdown",
      "source": [
        "* **Linearity assumption**: Assumes a linear relationship between the predictors and the response variable, which may not hold in real-world data.\n",
        "\n",
        "* **Sensitive to outliers**: Outliers can significantly influence the model and distort predictions.\n",
        "\n",
        "* **Homoscedasticity required**: Assumes constant variance of the errors; violation of this can lead to inefficient estimates.\n",
        "\n",
        "* **Normality of residuals**: Required for valid hypothesis testing and confidence intervals.\n",
        "\n",
        "* **Multicollinearity**: High correlation between independent variables can inflate variance and make coefficients unstable.\n",
        "\n",
        "* **Not suitable for categorical outcomes**: Cannot be used when the dependent variable is binary or categorical (logistic regression is more appropriate in such cases)."
      ],
      "metadata": {
        "id": "WnCctCTyK2Ji"
      }
    },
    {
      "cell_type": "markdown",
      "source": [
        "## Function details"
      ],
      "metadata": {
        "id": "zdydrlU8XzuI"
      }
    },
    {
      "cell_type": "markdown",
      "source": [
        "### 1. Importing Required Libraries"
      ],
      "metadata": {
        "id": "CV3lVT6bdhoe"
      }
    },
    {
      "cell_type": "code",
      "source": [
        "import numpy as np\n",
        "import pandas as pd\n",
        "import statsmodels.api as sm\n",
        "import statsmodels.formula.api as smf\n"
      ],
      "metadata": {
        "id": "dV4OKkX4dqmF"
      },
      "execution_count": null,
      "outputs": []
    },
    {
      "cell_type": "markdown",
      "source": [
        "\n",
        "* numpy: Used for mathematical operations\n",
        "\n",
        "* pandas: Handles data in a structured table format\n",
        "\n",
        "* statsmodels.api: Provides core statistical tools, including Generalized Linear Models (GLMs).\n",
        "\n",
        "* statsmodels.formula.api: Enables formula-based modeling, allowing us to specify the regression equation in a natural syntax"
      ],
      "metadata": {
        "id": "gOc4BnPNdwVU"
      }
    },
    {
      "cell_type": "markdown",
      "source": [
        "### 2. Defining the Linear Regression Function"
      ],
      "metadata": {
        "id": "jHSfVH5bXDLY"
      }
    },
    {
      "cell_type": "markdown",
      "source": [
        "To streamline the process, we define a function that fits a Generalized Linear Model (GLM) for linear regression and summarizes the key outputs"
      ],
      "metadata": {
        "id": "lQq2Y05GXKzP"
      }
    },
    {
      "cell_type": "code",
      "source": [
        "def execute_glm_regression(elr_dataframe_df, elr_outcome_str, elr_predictors_list,\n",
        "                           model_type='linear', print_results=True, labels=False, reg_type=\"Multi\"):\n",
        "    \"\"\"\n",
        "    Performs a Generalized Linear Model (GLM) for linear or logistic regression and returns a summary.\n",
        "\n",
        "    Parameters:\n",
        "    - elr_dataframe_df: Pandas DataFrame containing the data.\n",
        "    - elr_outcome_str: Name of the outcome (dependent) variable.\n",
        "    - elr_predictors_list: List of predictor (independent) variables.\n",
        "    - model_type: 'linear' for Gaussian (linear regression) or 'logistic' for Binomial (logistic regression).\n",
        "    - print_results: If True, prints the result summary.\n",
        "    - labels: (Optional) Dictionary mapping variable names to readable labels.\n",
        "    - reg_type: 'uni' or 'multi' for renaming columns in the output.\n",
        "\n",
        "    Returns:\n",
        "    - summary_df: DataFrame with regression results.\n",
        "    \"\"\"\n"
      ],
      "metadata": {
        "id": "4VXyOSdkXSEQ"
      },
      "execution_count": null,
      "outputs": []
    },
    {
      "cell_type": "markdown",
      "source": [
        "### 3. Selecting the Regression Type"
      ],
      "metadata": {
        "id": "P8BDIzxmXcdn"
      }
    },
    {
      "cell_type": "markdown",
      "source": [
        "The function determines whether to use a Gaussian (linear regression) or Binomial (logistic regression) model based on the model_type parameter"
      ],
      "metadata": {
        "id": "JaxbmPZQXjrv"
      }
    },
    {
      "cell_type": "code",
      "source": [
        "    if model_type.lower() == 'logistic':\n",
        "        family = sm.families.Binomial()\n",
        "    elif model_type.lower() == 'linear':\n",
        "        family = sm.families.Gaussian()\n",
        "    else:\n",
        "        raise ValueError(\"model_type must be 'linear' or 'logistic'\")"
      ],
      "metadata": {
        "id": "ct99rccKXrP9"
      },
      "execution_count": null,
      "outputs": []
    },
    {
      "cell_type": "markdown",
      "source": [
        "This section checks the model_type parameter to determine which statistical family to use:\n",
        "\n",
        "* For logistic regression ('logistic'), it sets the family to sm.families.Binomial(), which is suitable for binary outcomes.\n",
        "\n",
        "* For linear regression ('linear'), it sets the family to sm.families.Gaussian(), appropriate for continuous outcomes.\n",
        "\n",
        "* If an unsupported model_type is passed, it raises a ValueError to alert you immediately about the invalid input."
      ],
      "metadata": {
        "id": "KiqrJBfbdzRm"
      }
    },
    {
      "cell_type": "markdown",
      "source": [
        "### 4. Constructing the Regression Formula"
      ],
      "metadata": {
        "id": "-czMFO_sX5q9"
      }
    },
    {
      "cell_type": "markdown",
      "source": [
        "A dynamic formula is built based on the specified outcome and predictors"
      ],
      "metadata": {
        "id": "8bum_ZjJYLa7"
      }
    },
    {
      "cell_type": "code",
      "source": [
        "    formula = elr_outcome_str + ' ~ ' + ' + '.join(elr_predictors_list)\n"
      ],
      "metadata": {
        "id": "7X5gPRSnYIZ4"
      },
      "execution_count": null,
      "outputs": []
    },
    {
      "cell_type": "markdown",
      "source": [
        "* The formula string follows the format required by statsmodels: outcome ~ predictor1 + predictor2 + ..."
      ],
      "metadata": {
        "id": "4StQWV3neEVm"
      }
    },
    {
      "cell_type": "markdown",
      "source": [
        "### 5. Identifying and Formatting Categorical Variables"
      ],
      "metadata": {
        "id": "GmTF6Tb3YPHU"
      }
    },
    {
      "cell_type": "markdown",
      "source": [
        "Categorical predictors must be properly converted before fitting the model"
      ],
      "metadata": {
        "id": "UiAj6VNUYRtH"
      }
    },
    {
      "cell_type": "code",
      "source": [
        "    categorical_vars = elr_dataframe_df.select_dtypes(include=['object', 'category']).columns.intersection(elr_predictors_list)\n",
        "    for var in categorical_vars:\n",
        "        elr_dataframe_df[var] = elr_dataframe_df[var].astype('category')\n"
      ],
      "metadata": {
        "id": "bl1UGIzUYfF-"
      },
      "execution_count": null,
      "outputs": []
    },
    {
      "cell_type": "markdown",
      "source": [
        "* It selects columns in the DataFrame that are of type object or category and are also listed in your predictors.\n",
        "\n",
        "* Each identified column is then converted to the category data type.\n",
        "\n",
        "* This ensures that categorical variables are correctly treated without causing multicollinearity issues"
      ],
      "metadata": {
        "id": "aigqGzhEYiWu"
      }
    },
    {
      "cell_type": "markdown",
      "source": [
        "### 6. Fitting the Linear Regression Model"
      ],
      "metadata": {
        "id": "e-E5YuvAYosA"
      }
    },
    {
      "cell_type": "markdown",
      "source": [
        "The GLM model is fitted using the statsmodels package"
      ],
      "metadata": {
        "id": "zODn_xm8YsfP"
      }
    },
    {
      "cell_type": "code",
      "source": [
        "    model = smf.glm(formula=formula, data=elr_dataframe_df, family=family)\n",
        "    result = model.fit()\n"
      ],
      "metadata": {
        "id": "QWphfsN6Y8k5"
      },
      "execution_count": null,
      "outputs": []
    },
    {
      "cell_type": "markdown",
      "source": [
        "* The smf.glm function is called with the constructed formula, the dataset, and the chosen family.\n",
        "\n",
        "* The model is then fitted using the .fit() method, which computes the coefficients and related statistics.\n",
        "\n",
        "* This step applies Maximum Likelihood Estimation (MLE) to estimate the model parameters.\n",
        "\n"
      ],
      "metadata": {
        "id": "vbP7xWyYZBGd"
      }
    },
    {
      "cell_type": "markdown",
      "source": [
        "### 7. Extracting Regression Coefficients"
      ],
      "metadata": {
        "id": "p-uupI05ZGjF"
      }
    },
    {
      "cell_type": "markdown",
      "source": [
        "Once the model is fitted, we extract coefficients, confidence intervals, and p-values:"
      ],
      "metadata": {
        "id": "OowbdIp-ZKBp"
      }
    },
    {
      "cell_type": "code",
      "source": [
        "    summary_table = result.summary2().tables[1].copy()\n"
      ],
      "metadata": {
        "id": "Wzh7LBJ0Zblm"
      },
      "execution_count": null,
      "outputs": []
    },
    {
      "cell_type": "markdown",
      "source": [
        "For **linear regression**, we focus on:"
      ],
      "metadata": {
        "id": "EEgVh8ToZd14"
      }
    },
    {
      "cell_type": "code",
      "source": [
        "    summary_df = summary_table[['Coef.', '[0.025', '0.975]', 'P>|z|']].reset_index()\n",
        "    summary_df = summary_df.rename(columns={'index': 'Variable',\n",
        "                                            'Coef.': 'Coefficient',\n",
        "                                            '[0.025': 'LowerCI',\n",
        "                                            '0.975]': 'UpperCI',\n",
        "                                            'P>|z|': 'p-value'})\n"
      ],
      "metadata": {
        "id": "V4_S_T9fZn9h"
      },
      "execution_count": null,
      "outputs": []
    },
    {
      "cell_type": "markdown",
      "source": [
        "After fitting the model, the summary table containing key statistics is extracted:\n",
        "\n",
        "* <code>result.summary2()</code> generates a detailed summary.\n",
        "\n",
        "* The second table (indexed at 1) is copied to work with, as it contains * coefficients, confidence intervals, and p-values."
      ],
      "metadata": {
        "id": "orBNRnnNfHGz"
      }
    },
    {
      "cell_type": "markdown",
      "source": [
        "### 8. Mapping Variable Names to Readable Labels"
      ],
      "metadata": {
        "id": "rgN8SyfQbTNv"
      }
    },
    {
      "cell_type": "markdown",
      "source": [
        "If labels are provided, variable names are mapped to readable labels:\n",
        "\n"
      ],
      "metadata": {
        "id": "llmoZYfKg7Tb"
      }
    },
    {
      "cell_type": "code",
      "source": [
        "    if labels:\n",
        "      def parse_variable_name(var_name):\n",
        "        if var_name == 'Intercept':\n",
        "            return labels.get('Intercept', 'Intercept')\n",
        "        elif '[' in var_name:\n",
        "            base_var = var_name.split('[')[0]\n",
        "            level = var_name.split('[')[1].split(']')[0]\n",
        "            base_var_name = base_var.replace('C(', '').replace(')', '').strip()\n",
        "            label = labels.get(base_var_name, base_var_name)\n",
        "            return f'{label} ({level})'\n",
        "        else:\n",
        "            var_name_clean = var_name.replace('C(', '').replace(')', '').strip()\n",
        "            return labels.get(var_name_clean, var_name_clean)\n",
        "    summary_df['Study'] = summary_df['Study'].apply(parse_variable_name)\n"
      ],
      "metadata": {
        "id": "9B4i-AbqbamQ"
      },
      "execution_count": null,
      "outputs": []
    },
    {
      "cell_type": "markdown",
      "source": [
        "This snippet remaps raw variable names to more reader-friendly labels if a labels dictionary is provided:\n",
        "\n",
        "* The function parse_variable_name checks if a variable is the intercept or a categorical variable.\n",
        "\n",
        "* For categorical variables, it extracts the base name and level, then applies the mapping.\n",
        "\n",
        "* The Study column in the summary DataFrame is updated with these parsed names."
      ],
      "metadata": {
        "id": "zzL8_nwLdELW"
      }
    },
    {
      "cell_type": "markdown",
      "source": [
        "## 9. Reordering and Cleaning the Columns"
      ],
      "metadata": {
        "id": "FIOHbakihG33"
      }
    },
    {
      "cell_type": "markdown",
      "source": [
        "This section organizes the DataFrame"
      ],
      "metadata": {
        "id": "5hqVvi3fhPgb"
      }
    },
    {
      "cell_type": "code",
      "source": [
        "    if model_type.lower() == 'logistic':\n",
        "        summary_df = summary_df[['Study', 'OddsRatio', 'LowerCI', 'UpperCI', 'p-value']]\n",
        "    else:\n",
        "        summary_df = summary_df[['Study', 'Coefficient', 'LowerCI', 'UpperCI', 'p-value']]\n",
        "\n",
        "    summary_df['Study'] = summary_df['Study'].str.replace('T.', '')"
      ],
      "metadata": {
        "id": "BFS3omkPhQt4"
      },
      "execution_count": null,
      "outputs": []
    },
    {
      "cell_type": "markdown",
      "source": [
        "* Columns are reordered to ensure a logical and consistent display.\n",
        "\n",
        "* The string <code>'T.'</code>, which may appear in categorical variable names, is removed for clarity."
      ],
      "metadata": {
        "id": "ENI4YvFthaRI"
      }
    },
    {
      "cell_type": "markdown",
      "source": [
        "### 10. Formatting and Rounding Numeric Values"
      ],
      "metadata": {
        "id": "LhMupTVSaNVE"
      }
    },
    {
      "cell_type": "markdown",
      "source": [
        "For better readability, numerical values are rounded:"
      ],
      "metadata": {
        "id": "4csrMnF9aPzZ"
      }
    },
    {
      "cell_type": "code",
      "source": [
        "    for col in summary_df.columns[1:-1]:\n",
        "        summary_df[col] = summary_df[col].round(3)\n",
        "    summary_df['p-value'] = summary_df['p-value'].apply(lambda x: f'{x:.4f}')\n"
      ],
      "metadata": {
        "id": "JnSY3RbMaaR4"
      },
      "execution_count": null,
      "outputs": []
    },
    {
      "cell_type": "markdown",
      "source": [
        "* Coefficients and confidence intervals are rounded to 3 decimal places.\n",
        "\n",
        "* p-values are formatted to 4 decimal places."
      ],
      "metadata": {
        "id": "LbW_DmP5adW2"
      }
    },
    {
      "cell_type": "markdown",
      "source": [
        "### 11. Removing the Intercept Row"
      ],
      "metadata": {
        "id": "1o0I5N6Laycv"
      }
    },
    {
      "cell_type": "markdown",
      "source": [
        "If desired, the intercept row can be removed from the summary:"
      ],
      "metadata": {
        "id": "BB6fSua7a1P-"
      }
    },
    {
      "cell_type": "code",
      "source": [
        "    summary_df = summary_df[summary_df['Variable'] != 'Intercept']\n"
      ],
      "metadata": {
        "id": "zu_BCE04a3BN"
      },
      "execution_count": null,
      "outputs": []
    },
    {
      "cell_type": "markdown",
      "source": [
        "* The intercept is often not needed for interpretation."
      ],
      "metadata": {
        "id": "2BwD1hIYa-v3"
      }
    },
    {
      "cell_type": "markdown",
      "source": [
        "### 12. Renaming Columns Based on Regression Type"
      ],
      "metadata": {
        "id": "5h_yEjjDbE4p"
      }
    },
    {
      "cell_type": "markdown",
      "source": [
        "To distinguish between univariate and multivariate models:"
      ],
      "metadata": {
        "id": "XzRlikzvbG8P"
      }
    },
    {
      "cell_type": "code",
      "source": [
        "    if reg_type.lower() == 'uni':\n",
        "        summary_df.rename(columns={\n",
        "            'Coefficient': 'Coefficient (uni)',\n",
        "            'LowerCI': 'LowerCI (uni)',\n",
        "            'UpperCI': 'UpperCI (uni)',\n",
        "            'p-value': 'p-value (uni)'\n",
        "        }, inplace=True)\n",
        "    elif reg_type.lower() == 'multi':\n",
        "        summary_df.rename(columns={\n",
        "            'Coefficient': 'Coefficient (multi)',\n",
        "            'LowerCI': 'LowerCI (multi)',\n",
        "            'UpperCI': 'UpperCI (multi)',\n",
        "            'p-value': 'p-value (multi)'\n",
        "        }, inplace=True)\n"
      ],
      "metadata": {
        "id": "jfBtwM8MbKL-"
      },
      "execution_count": null,
      "outputs": []
    },
    {
      "cell_type": "markdown",
      "source": [
        "A suffix is appended to each column name:\n",
        "\n",
        "* 'uni': Univariate regression (each predictor tested separately).\n",
        "\n",
        "* 'multi': Multivariate regression (all predictors tested together)."
      ],
      "metadata": {
        "id": "upyeqTF4bNEp"
      }
    },
    {
      "cell_type": "markdown",
      "source": [
        "### 13. Displaying and Returning the Results"
      ],
      "metadata": {
        "id": "hGVRwFxMbmsa"
      }
    },
    {
      "cell_type": "markdown",
      "source": [
        "The results are printed if print_results=True and then returned:"
      ],
      "metadata": {
        "id": "8cbD-uFbbpfX"
      }
    },
    {
      "cell_type": "code",
      "source": [
        "    if print_results:\n",
        "        print(summary_df)\n",
        "\n",
        "    return summary_df\n"
      ],
      "metadata": {
        "id": "6niTVpGrbqYv"
      },
      "execution_count": null,
      "outputs": []
    },
    {
      "cell_type": "markdown",
      "source": [
        "The final DataFrame contains:\n",
        "\n",
        "* Predictor names\n",
        "\n",
        "* Coefficients\n",
        "\n",
        "* Confidence intervals\n",
        "\n",
        "* p-values"
      ],
      "metadata": {
        "id": "fDLLUsDFbtao"
      }
    },
    {
      "cell_type": "markdown",
      "source": [
        "### Function"
      ],
      "metadata": {
        "id": "0yNdLsQiL3uh"
      }
    },
    {
      "cell_type": "code",
      "source": [
        "import numpy as np\n",
        "import pandas as pd\n",
        "import statsmodels.api as sm\n",
        "import statsmodels.formula.api as smf\n",
        "\n",
        "def execute_glm_regression(elr_dataframe_df, elr_outcome_str, elr_predictors_list,\n",
        "                           model_type='linear', print_results=True, labels=False, reg_type=\"Multi\"):\n",
        "    \"\"\"\n",
        "    Executa um modelo GLM (Generalized Linear Model) para regressão linear ou logística.\n",
        "\n",
        "    Parâmetros:\n",
        "    - elr_dataframe_df: DataFrame do pandas com os dados.\n",
        "    - elr_outcome_str: Nome da variável resposta.\n",
        "    - elr_predictors_list: Lista de nomes das variáveis preditoras.\n",
        "    - model_type: 'linear' para regressão linear (Gaussiana) ou 'logistic' para regressão logística (Binomial).\n",
        "    - print_results: Se True, imprime a tabela de resultados.\n",
        "    - labels: (Opcional) Dicionário para mapear nomes das variáveis para rótulos legíveis.\n",
        "    - reg_type: Tipo de regressão ('uni' ou 'multi') para renomear as colunas do output.\n",
        "\n",
        "    Retorna:\n",
        "    - summary_df: DataFrame com os resultados do modelo.\n",
        "    \"\"\"\n",
        "\n",
        "    # Define a família de acordo com o model_type\n",
        "    if model_type.lower() == 'logistic':\n",
        "        family = sm.families.Binomial()\n",
        "    elif model_type.lower() == 'linear':\n",
        "        family = sm.families.Gaussian()\n",
        "    else:\n",
        "        raise ValueError(\"model_type deve ser 'linear' ou 'logistic'\")\n",
        "\n",
        "    # Monta a fórmula\n",
        "    formula = elr_outcome_str + ' ~ ' + ' + '.join(elr_predictors_list)\n",
        "\n",
        "    # Converte variáveis categóricas para o tipo 'category'\n",
        "    categorical_vars = elr_dataframe_df.select_dtypes(include=['object', 'category']).columns.intersection(elr_predictors_list)\n",
        "    for var in categorical_vars:\n",
        "        elr_dataframe_df[var] = elr_dataframe_df[var].astype('category')\n",
        "\n",
        "    # Ajusta o modelo GLM\n",
        "    model = smf.glm(formula=formula, data=elr_dataframe_df, family=family)\n",
        "    result = model.fit()\n",
        "\n",
        "    # Extrai a tabela de resultados\n",
        "    summary_table = result.summary2().tables[1].copy()\n",
        "\n",
        "    # Para regressão logística, calcula Odds Ratios; para linear, utiliza os coeficientes diretamente.\n",
        "    if model_type.lower() == 'logistic':\n",
        "        summary_table['Odds Ratio'] = np.exp(summary_table['Coef.'])\n",
        "        summary_table['IC Low'] = np.exp(summary_table['[0.025'])\n",
        "        summary_table['IC High'] = np.exp(summary_table['0.975]'])\n",
        "\n",
        "        summary_df = summary_table[['Odds Ratio', 'IC Low', 'IC High', 'P>|z|']].reset_index()\n",
        "        summary_df = summary_df.rename(columns={'index': 'Study',\n",
        "                                                  'Odds Ratio': 'OddsRatio',\n",
        "                                                  'IC Low': 'LowerCI',\n",
        "                                                  'IC High': 'UpperCI',\n",
        "                                                  'P>|z|': 'p-value'})\n",
        "    else:\n",
        "        summary_df = summary_table[['Coef.', '[0.025', '0.975]', 'P>|z|']].reset_index()\n",
        "        summary_df = summary_df.rename(columns={'index': 'Study',\n",
        "                                                  'Coef.': 'Coefficient',\n",
        "                                                  '[0.025': 'LowerCI',\n",
        "                                                  '0.975]': 'UpperCI',\n",
        "                                                  'P>|z|': 'p-value'})\n",
        "\n",
        "    # Mapeia nomes das variáveis para rótulos legíveis, se fornecido\n",
        "    if labels:\n",
        "        def parse_variable_name(var_name):\n",
        "            if var_name == 'Intercept':\n",
        "                return labels.get('Intercept', 'Intercept')\n",
        "            elif '[' in var_name:\n",
        "                base_var = var_name.split('[')[0]\n",
        "                level = var_name.split('[')[1].split(']')[0]\n",
        "                base_var_name = base_var.replace('C(', '').replace(')', '').strip()\n",
        "                label = labels.get(base_var_name, base_var_name)\n",
        "                return f'{label} ({level})'\n",
        "            else:\n",
        "                var_name_clean = var_name.replace('C(', '').replace(')', '').strip()\n",
        "                return labels.get(var_name_clean, var_name_clean)\n",
        "        summary_df['Study'] = summary_df['Study'].apply(parse_variable_name)\n",
        "\n",
        "    # Reordena as colunas\n",
        "    if model_type.lower() == 'logistic':\n",
        "        summary_df = summary_df[['Study', 'OddsRatio', 'LowerCI', 'UpperCI', 'p-value']]\n",
        "    else:\n",
        "        summary_df = summary_df[['Study', 'Coefficient', 'LowerCI', 'UpperCI', 'p-value']]\n",
        "\n",
        "    # Remove the letter 'T.' from categorical variables\n",
        "    summary_df['Study'] = summary_df['Study'].str.replace('T.', '')\n",
        "\n",
        "    # Formata os valores numéricos\n",
        "    for col in summary_df.columns[1:-1]:\n",
        "        summary_df[col] = summary_df[col].round(3)\n",
        "    summary_df['p-value'] = summary_df['p-value'].apply(lambda x: f'{x:.4f}')\n",
        "\n",
        "\n",
        "    # Remove linha do intercepto, se desejar (opcional)\n",
        "    summary_df = summary_df[summary_df['Study'] != 'Intercept']\n",
        "\n",
        "    # Renomeia as colunas conforme o tipo de regressão\n",
        "    if reg_type.lower() == 'uni':\n",
        "        if model_type.lower() == 'logistic':\n",
        "            summary_df.rename(columns={\n",
        "                'OddsRatio': 'OddsRatio (uni)',\n",
        "                'LowerCI': 'LowerCI (uni)',\n",
        "                'UpperCI': 'UpperCI (uni)',\n",
        "                'p-value': 'p-value (uni)'\n",
        "            }, inplace=True)\n",
        "        else:\n",
        "            summary_df.rename(columns={\n",
        "                'Coefficient': 'Coefficient (uni)',\n",
        "                'LowerCI': 'LowerCI (uni)',\n",
        "                'UpperCI': 'UpperCI (uni)',\n",
        "                'p-value': 'p-value (uni)'\n",
        "            }, inplace=True)\n",
        "    elif reg_type.lower() == 'multi':\n",
        "        if model_type.lower() == 'logistic':\n",
        "            summary_df.rename(columns={\n",
        "                'OddsRatio': 'OddsRatio (multi)',\n",
        "                'LowerCI': 'LowerCI (multi)',\n",
        "                'UpperCI': 'UpperCI (multi)',\n",
        "                'p-value': 'p-value (multi)'\n",
        "            }, inplace=True)\n",
        "        else:\n",
        "            summary_df.rename(columns={\n",
        "                'Coefficient': 'Coefficient (multi)',\n",
        "                'LowerCI': 'LowerCI (multi)',\n",
        "                'UpperCI': 'UpperCI (multi)',\n",
        "                'p-value': 'p-value (multi)'\n",
        "            }, inplace=True)\n",
        "\n",
        "    if print_results:\n",
        "        print(summary_df)\n",
        "\n",
        "    return summary_df\n",
        "\n",
        "\n"
      ],
      "metadata": {
        "id": "YeDRlEt7nVaL"
      },
      "execution_count": null,
      "outputs": []
    },
    {
      "cell_type": "markdown",
      "source": [
        "## Example"
      ],
      "metadata": {
        "id": "Z0dIHSUNW2sO"
      }
    },
    {
      "cell_type": "markdown",
      "source": [
        "###Importng"
      ],
      "metadata": {
        "id": "TsbInNVs-TJ6"
      }
    },
    {
      "cell_type": "markdown",
      "source": [
        "In this example we are going to predict the Respiratory Rate using age, sex, hypertension, diabetes, Highest recorded temperature and Creatinine level as predictors variables"
      ],
      "metadata": {
        "id": "gnGRlQYOX4sQ"
      }
    },
    {
      "cell_type": "code",
      "source": [
        "from google.colab import files\n",
        "\n",
        "uploaded = files.upload()\n",
        "\n",
        "dictionary_df = pd.read_csv(\"vertex_dictionary.csv\")\n",
        "df = pd.read_csv('df_map.csv')\n",
        "var_name_map = dict(zip(dictionary_df[\"field_name\"], dictionary_df[\"field_label\"]))"
      ],
      "metadata": {
        "colab": {
          "base_uri": "https://localhost:8080/",
          "height": 108
        },
        "collapsed": true,
        "id": "z4xGhWKa-h6K",
        "outputId": "d4961902-632a-4adf-fcf0-539cfe04b4f8"
      },
      "execution_count": null,
      "outputs": [
        {
          "output_type": "display_data",
          "data": {
            "text/plain": [
              "<IPython.core.display.HTML object>"
            ],
            "text/html": [
              "\n",
              "     <input type=\"file\" id=\"files-baee5aac-2343-4afe-b303-c3fd517188a1\" name=\"files[]\" multiple disabled\n",
              "        style=\"border:none\" />\n",
              "     <output id=\"result-baee5aac-2343-4afe-b303-c3fd517188a1\">\n",
              "      Upload widget is only available when the cell has been executed in the\n",
              "      current browser session. Please rerun this cell to enable.\n",
              "      </output>\n",
              "      <script>// Copyright 2017 Google LLC\n",
              "//\n",
              "// Licensed under the Apache License, Version 2.0 (the \"License\");\n",
              "// you may not use this file except in compliance with the License.\n",
              "// You may obtain a copy of the License at\n",
              "//\n",
              "//      http://www.apache.org/licenses/LICENSE-2.0\n",
              "//\n",
              "// Unless required by applicable law or agreed to in writing, software\n",
              "// distributed under the License is distributed on an \"AS IS\" BASIS,\n",
              "// WITHOUT WARRANTIES OR CONDITIONS OF ANY KIND, either express or implied.\n",
              "// See the License for the specific language governing permissions and\n",
              "// limitations under the License.\n",
              "\n",
              "/**\n",
              " * @fileoverview Helpers for google.colab Python module.\n",
              " */\n",
              "(function(scope) {\n",
              "function span(text, styleAttributes = {}) {\n",
              "  const element = document.createElement('span');\n",
              "  element.textContent = text;\n",
              "  for (const key of Object.keys(styleAttributes)) {\n",
              "    element.style[key] = styleAttributes[key];\n",
              "  }\n",
              "  return element;\n",
              "}\n",
              "\n",
              "// Max number of bytes which will be uploaded at a time.\n",
              "const MAX_PAYLOAD_SIZE = 100 * 1024;\n",
              "\n",
              "function _uploadFiles(inputId, outputId) {\n",
              "  const steps = uploadFilesStep(inputId, outputId);\n",
              "  const outputElement = document.getElementById(outputId);\n",
              "  // Cache steps on the outputElement to make it available for the next call\n",
              "  // to uploadFilesContinue from Python.\n",
              "  outputElement.steps = steps;\n",
              "\n",
              "  return _uploadFilesContinue(outputId);\n",
              "}\n",
              "\n",
              "// This is roughly an async generator (not supported in the browser yet),\n",
              "// where there are multiple asynchronous steps and the Python side is going\n",
              "// to poll for completion of each step.\n",
              "// This uses a Promise to block the python side on completion of each step,\n",
              "// then passes the result of the previous step as the input to the next step.\n",
              "function _uploadFilesContinue(outputId) {\n",
              "  const outputElement = document.getElementById(outputId);\n",
              "  const steps = outputElement.steps;\n",
              "\n",
              "  const next = steps.next(outputElement.lastPromiseValue);\n",
              "  return Promise.resolve(next.value.promise).then((value) => {\n",
              "    // Cache the last promise value to make it available to the next\n",
              "    // step of the generator.\n",
              "    outputElement.lastPromiseValue = value;\n",
              "    return next.value.response;\n",
              "  });\n",
              "}\n",
              "\n",
              "/**\n",
              " * Generator function which is called between each async step of the upload\n",
              " * process.\n",
              " * @param {string} inputId Element ID of the input file picker element.\n",
              " * @param {string} outputId Element ID of the output display.\n",
              " * @return {!Iterable<!Object>} Iterable of next steps.\n",
              " */\n",
              "function* uploadFilesStep(inputId, outputId) {\n",
              "  const inputElement = document.getElementById(inputId);\n",
              "  inputElement.disabled = false;\n",
              "\n",
              "  const outputElement = document.getElementById(outputId);\n",
              "  outputElement.innerHTML = '';\n",
              "\n",
              "  const pickedPromise = new Promise((resolve) => {\n",
              "    inputElement.addEventListener('change', (e) => {\n",
              "      resolve(e.target.files);\n",
              "    });\n",
              "  });\n",
              "\n",
              "  const cancel = document.createElement('button');\n",
              "  inputElement.parentElement.appendChild(cancel);\n",
              "  cancel.textContent = 'Cancel upload';\n",
              "  const cancelPromise = new Promise((resolve) => {\n",
              "    cancel.onclick = () => {\n",
              "      resolve(null);\n",
              "    };\n",
              "  });\n",
              "\n",
              "  // Wait for the user to pick the files.\n",
              "  const files = yield {\n",
              "    promise: Promise.race([pickedPromise, cancelPromise]),\n",
              "    response: {\n",
              "      action: 'starting',\n",
              "    }\n",
              "  };\n",
              "\n",
              "  cancel.remove();\n",
              "\n",
              "  // Disable the input element since further picks are not allowed.\n",
              "  inputElement.disabled = true;\n",
              "\n",
              "  if (!files) {\n",
              "    return {\n",
              "      response: {\n",
              "        action: 'complete',\n",
              "      }\n",
              "    };\n",
              "  }\n",
              "\n",
              "  for (const file of files) {\n",
              "    const li = document.createElement('li');\n",
              "    li.append(span(file.name, {fontWeight: 'bold'}));\n",
              "    li.append(span(\n",
              "        `(${file.type || 'n/a'}) - ${file.size} bytes, ` +\n",
              "        `last modified: ${\n",
              "            file.lastModifiedDate ? file.lastModifiedDate.toLocaleDateString() :\n",
              "                                    'n/a'} - `));\n",
              "    const percent = span('0% done');\n",
              "    li.appendChild(percent);\n",
              "\n",
              "    outputElement.appendChild(li);\n",
              "\n",
              "    const fileDataPromise = new Promise((resolve) => {\n",
              "      const reader = new FileReader();\n",
              "      reader.onload = (e) => {\n",
              "        resolve(e.target.result);\n",
              "      };\n",
              "      reader.readAsArrayBuffer(file);\n",
              "    });\n",
              "    // Wait for the data to be ready.\n",
              "    let fileData = yield {\n",
              "      promise: fileDataPromise,\n",
              "      response: {\n",
              "        action: 'continue',\n",
              "      }\n",
              "    };\n",
              "\n",
              "    // Use a chunked sending to avoid message size limits. See b/62115660.\n",
              "    let position = 0;\n",
              "    do {\n",
              "      const length = Math.min(fileData.byteLength - position, MAX_PAYLOAD_SIZE);\n",
              "      const chunk = new Uint8Array(fileData, position, length);\n",
              "      position += length;\n",
              "\n",
              "      const base64 = btoa(String.fromCharCode.apply(null, chunk));\n",
              "      yield {\n",
              "        response: {\n",
              "          action: 'append',\n",
              "          file: file.name,\n",
              "          data: base64,\n",
              "        },\n",
              "      };\n",
              "\n",
              "      let percentDone = fileData.byteLength === 0 ?\n",
              "          100 :\n",
              "          Math.round((position / fileData.byteLength) * 100);\n",
              "      percent.textContent = `${percentDone}% done`;\n",
              "\n",
              "    } while (position < fileData.byteLength);\n",
              "  }\n",
              "\n",
              "  // All done.\n",
              "  yield {\n",
              "    response: {\n",
              "      action: 'complete',\n",
              "    }\n",
              "  };\n",
              "}\n",
              "\n",
              "scope.google = scope.google || {};\n",
              "scope.google.colab = scope.google.colab || {};\n",
              "scope.google.colab._files = {\n",
              "  _uploadFiles,\n",
              "  _uploadFilesContinue,\n",
              "};\n",
              "})(self);\n",
              "</script> "
            ]
          },
          "metadata": {}
        },
        {
          "output_type": "stream",
          "name": "stdout",
          "text": [
            "Saving vertex_dictionary.csv to vertex_dictionary.csv\n",
            "Saving df_map.csv to df_map.csv\n"
          ]
        }
      ]
    },
    {
      "cell_type": "markdown",
      "source": [
        "\n",
        "* We load the dataset (df_map.csv) and the variable dictionary (vertex_dictionary.csv) using pd.read_csv().\n",
        "\n",
        "* The variable dictionary contains technical variable names (field_name) and their corresponding human-readable labels (field_label).\n",
        "\n",
        "* We then create a mapping dictionary (var_name_map) using zip() and dict() to associate each technical name with its readable label.\n",
        "\n",
        "* This mapping is later used to replace technical variable names in the regression output with more understandable labels for interpretation and presentation."
      ],
      "metadata": {
        "id": "FFRuZVhmAqoZ"
      }
    },
    {
      "cell_type": "markdown",
      "source": [
        "### Define response variable and predictors"
      ],
      "metadata": {
        "id": "RdnLCdLFDWri"
      }
    },
    {
      "cell_type": "code",
      "source": [
        "outcome_variable = \"vital_rr\"\n",
        "predictor_variables = [\"demog_age\", \"demog_sex\", \"comor_hypertensi\",\n",
        "                        \"comor_diabetes_yn\", \"vital_highesttem_c\", \"labs_creatinine_mgdl\"]"
      ],
      "metadata": {
        "id": "2s7TUfXZDotL"
      },
      "execution_count": null,
      "outputs": []
    },
    {
      "cell_type": "markdown",
      "source": [
        "\n",
        "\n",
        "* **outcome_variable** → response variable (vital_rr).\n",
        "\n",
        "* **predictor_variables** → list of predictor variables"
      ],
      "metadata": {
        "id": "7kNIFe0gDt3w"
      }
    },
    {
      "cell_type": "markdown",
      "source": [
        "### Run the linear regression model"
      ],
      "metadata": {
        "id": "-Fej3PPdD6yj"
      }
    },
    {
      "cell_type": "code",
      "source": [
        "summary_df = execute_glm_regression(elr_dataframe_df=df,\n",
        "                                    elr_outcome_str=outcome_variable,\n",
        "                                    elr_predictors_list=predictor_variables,\n",
        "                                    model_type=\"linear\",\n",
        "                                    print_results=True,\n",
        "                                    labels=var_name_map,\n",
        "                                    reg_type=\"Multi\")"
      ],
      "metadata": {
        "colab": {
          "base_uri": "https://localhost:8080/"
        },
        "id": "Ednz4IoYECsY",
        "outputId": "ebba06c5-aad0-408b-fd43-96b71300ec39"
      },
      "execution_count": null,
      "outputs": [
        {
          "output_type": "stream",
          "name": "stdout",
          "text": [
            "                                       Study  Coefficient (multi)  \\\n",
            "1                        Sex at birth (Male)                0.022   \n",
            "2  Hypertension (physician diagnosed) (True)               -0.010   \n",
            "3                   Diabetes mellitus (True)                0.304   \n",
            "4                                        Age                0.003   \n",
            "5                   Highest temperature (°C)                0.010   \n",
            "6                         Creatinine (mg/dL)                0.020   \n",
            "\n",
            "   LowerCI (multi)  UpperCI (multi) p-value (multi)  \n",
            "1           -0.167            0.212          0.8175  \n",
            "2           -0.202            0.182          0.9174  \n",
            "3           -0.005            0.613          0.0542  \n",
            "4           -0.001            0.007          0.1278  \n",
            "5           -0.070            0.089          0.8109  \n",
            "6           -0.633            0.673          0.9525  \n"
          ]
        }
      ]
    },
    {
      "cell_type": "markdown",
      "source": [
        "**The execute_glm_regression() function is called with all required parameters:**\n",
        "* **elr_dataframe_df** = df → The dataset.\n",
        "\n",
        "* **elr_outcome_str** = outcome_variable → The dependent variable (vital_rr).\n",
        "\n",
        "* **elr_predictors_list** = predictor_variables  → List of independent variables.\n",
        "\n",
        "* **model_type** = \"linear\" → We specify **linear regression**.\n",
        "\n",
        "* **print_results** = True → Displays the regression output.\n",
        "\n",
        "* **labels** = True → For mapping variable names to labels.\n",
        "\n",
        "* **reg_type** = \"Multi\" → Specifies **multivariate regression**."
      ],
      "metadata": {
        "id": "t0xqtUP2Gn7L"
      }
    },
    {
      "cell_type": "markdown",
      "source": [
        "## Interpreting results"
      ],
      "metadata": {
        "id": "1J9IbSg1ca2x"
      }
    },
    {
      "cell_type": "markdown",
      "source": [
        "### Analysis of the Results"
      ],
      "metadata": {
        "id": "IwP27sV_d69i"
      }
    },
    {
      "cell_type": "markdown",
      "source": [
        "* **Sex (Male) (demog_sex[Male])** → Coefficient close to 0 (0.022), wide confidence interval, and p-value 0.8175 (not significant).\n",
        "\n",
        "* **Age (demog_age)** → Small coefficient (0.003), p-value 0.1278 (not significant).\n",
        "\n",
        "* **Hypertension (comor_hypertensi)** → Negative coefficient (-0.010), p-value 0.9174 (not significant).\n",
        "\n",
        "* **Diabetes (comor_diabetes_yn)** → Positive coefficient (0.304), confidence interval includes 0, but p-value 0.0542 (almost significant).\n",
        "\n",
        "* **Highest Temperature (vital_highesttem_c)** → Coefficient 0.010, p-value 0.8109 (not significant).\n",
        "\n",
        "* **Creatinine (labs_creatinine_mgdl)** → Coefficient 0.020, p-value 0.9525 (not significant).\n",
        "\n",
        "In this case None of the variables show strong statistical evidence to predict the outcome variable, as all p-values are greater than 0.05."
      ],
      "metadata": {
        "id": "OSH3RPxZd_cu"
      }
    },
    {
      "cell_type": "markdown",
      "source": [
        "## Analyzing results with Forest Plot"
      ],
      "metadata": {
        "id": "X8qvFTu691XH"
      }
    },
    {
      "cell_type": "markdown",
      "source": [
        "The Forest Plot is a graphical method used to analyze the results table of linear regression. Each point represents an estimated coefficient (β), along with its lower and upper confidence intervals. This allows for a clear visualization of the direction (positive or negative) and the precision of the associations between the independent variables and the outcome."
      ],
      "metadata": {
        "id": "RAbBNJCl98Qu"
      }
    },
    {
      "cell_type": "code",
      "source": [
        "import pandas as pd\n",
        "import plotly.graph_objs as go\n",
        "\n",
        "\n",
        "def fig_forest_plot(\n",
        "        df, dictionary=None,\n",
        "        title='Forest Plot',\n",
        "        labels=['Study', 'OddsRatio', 'LowerCI', 'UpperCI'],\n",
        "        graph_id='forest-plot', graph_label='', graph_about='',\n",
        "        only_display=False):\n",
        "\n",
        "    # Ordering Values -> Descending Order\n",
        "    df = df.sort_values(by=labels[1], ascending=True)\n",
        "\n",
        "    # Error Handling\n",
        "    if not set(labels).issubset(df.columns):\n",
        "        print(df.columns)\n",
        "        error_str = f'Dataframe must contain the following columns: {labels}'\n",
        "        raise ValueError(error_str)\n",
        "\n",
        "    # Prepare Data Traces\n",
        "    traces = []\n",
        "\n",
        "    # Add the point estimates as scatter plot points\n",
        "    traces.append(\n",
        "        go.Scatter(\n",
        "            x=df[labels[1]],\n",
        "            y=df[labels[0]],\n",
        "            mode='markers',\n",
        "            name='Odds Ratio',\n",
        "            marker=dict(color='blue', size=10))\n",
        "    )\n",
        "\n",
        "    # Add the confidence intervals as lines\n",
        "    for index, row in df.iterrows():\n",
        "        traces.append(\n",
        "            go.Scatter(\n",
        "                x=[row[labels[2]], row[labels[3]]],\n",
        "                y=[row[labels[0]], row[labels[0]]],\n",
        "                mode='lines',\n",
        "                showlegend=False,\n",
        "                line=dict(color='blue', width=2))\n",
        "        )\n",
        "\n",
        "    # Define layout\n",
        "    layout = go.Layout(\n",
        "        title=title,\n",
        "        xaxis=dict(title='Coefficient'),\n",
        "        yaxis=dict(\n",
        "            title='', automargin=True, tickmode='array',\n",
        "            tickvals=df[labels[0]].tolist(), ticktext=df[labels[0]].tolist()),\n",
        "        shapes=[\n",
        "            dict(\n",
        "                type='line', x0=1, y0=-0.5, x1=1, y1=len(df[labels[0]])-0.5,\n",
        "                line=dict(color='red', width=2)\n",
        "            )],  # Line of no effect\n",
        "        margin=dict(l=100, r=100, t=100, b=50),\n",
        "        height=600\n",
        "    )\n",
        "\n",
        "    return go.Figure(data=traces, layout=layout)"
      ],
      "metadata": {
        "id": "BgKEhnx9-N_H"
      },
      "execution_count": null,
      "outputs": []
    },
    {
      "cell_type": "markdown",
      "source": [
        "### Executing Foresto Plot"
      ],
      "metadata": {
        "id": "RDfM7rHf-T9f"
      }
    },
    {
      "cell_type": "code",
      "source": [
        "graph = fig_forest_plot(\n",
        "    df = summary_df,\n",
        "    labels = summary_df.columns.tolist(),\n",
        "    only_display=True\n",
        ")\n",
        "\n",
        "graph.show()"
      ],
      "metadata": {
        "colab": {
          "base_uri": "https://localhost:8080/",
          "height": 617
        },
        "id": "hoeufM44-Wx3",
        "outputId": "394e287c-03ee-41d3-be31-4a05a863ed3c"
      },
      "execution_count": null,
      "outputs": [
        {
          "output_type": "display_data",
          "data": {
            "text/html": [
              "<html>\n",
              "<head><meta charset=\"utf-8\" /></head>\n",
              "<body>\n",
              "    <div>            <script src=\"https://cdnjs.cloudflare.com/ajax/libs/mathjax/2.7.5/MathJax.js?config=TeX-AMS-MML_SVG\"></script><script type=\"text/javascript\">if (window.MathJax && window.MathJax.Hub && window.MathJax.Hub.Config) {window.MathJax.Hub.Config({SVG: {font: \"STIX-Web\"}});}</script>                <script type=\"text/javascript\">window.PlotlyConfig = {MathJaxConfig: 'local'};</script>\n",
              "        <script charset=\"utf-8\" src=\"https://cdn.plot.ly/plotly-2.35.2.min.js\"></script>                <div id=\"11b597c1-62b0-4b89-8258-d6760fd61eed\" class=\"plotly-graph-div\" style=\"height:600px; width:100%;\"></div>            <script type=\"text/javascript\">                                    window.PLOTLYENV=window.PLOTLYENV || {};                                    if (document.getElementById(\"11b597c1-62b0-4b89-8258-d6760fd61eed\")) {                    Plotly.newPlot(                        \"11b597c1-62b0-4b89-8258-d6760fd61eed\",                        [{\"marker\":{\"color\":\"blue\",\"size\":10},\"mode\":\"markers\",\"name\":\"Odds Ratio\",\"x\":[-0.01,0.003,0.01,0.02,0.022,0.304],\"y\":[\"Hypertension (physician diagnosed) (True)\",\"Age\",\"Highest temperature (°C)\",\"Creatinine (mg\\u002fdL)\",\"Sex at birth (Male)\",\"Diabetes mellitus (True)\"],\"type\":\"scatter\"},{\"line\":{\"color\":\"blue\",\"width\":2},\"mode\":\"lines\",\"showlegend\":false,\"x\":[-0.202,0.182],\"y\":[\"Hypertension (physician diagnosed) (True)\",\"Hypertension (physician diagnosed) (True)\"],\"type\":\"scatter\"},{\"line\":{\"color\":\"blue\",\"width\":2},\"mode\":\"lines\",\"showlegend\":false,\"x\":[-0.001,0.007],\"y\":[\"Age\",\"Age\"],\"type\":\"scatter\"},{\"line\":{\"color\":\"blue\",\"width\":2},\"mode\":\"lines\",\"showlegend\":false,\"x\":[-0.07,0.089],\"y\":[\"Highest temperature (°C)\",\"Highest temperature (°C)\"],\"type\":\"scatter\"},{\"line\":{\"color\":\"blue\",\"width\":2},\"mode\":\"lines\",\"showlegend\":false,\"x\":[-0.633,0.673],\"y\":[\"Creatinine (mg\\u002fdL)\",\"Creatinine (mg\\u002fdL)\"],\"type\":\"scatter\"},{\"line\":{\"color\":\"blue\",\"width\":2},\"mode\":\"lines\",\"showlegend\":false,\"x\":[-0.167,0.212],\"y\":[\"Sex at birth (Male)\",\"Sex at birth (Male)\"],\"type\":\"scatter\"},{\"line\":{\"color\":\"blue\",\"width\":2},\"mode\":\"lines\",\"showlegend\":false,\"x\":[-0.005,0.613],\"y\":[\"Diabetes mellitus (True)\",\"Diabetes mellitus (True)\"],\"type\":\"scatter\"}],                        {\"height\":600,\"margin\":{\"b\":50,\"l\":100,\"r\":100,\"t\":100},\"shapes\":[{\"line\":{\"color\":\"red\",\"width\":2},\"type\":\"line\",\"x0\":1,\"x1\":1,\"y0\":-0.5,\"y1\":5.5}],\"title\":{\"text\":\"Forest Plot\"},\"xaxis\":{\"title\":{\"text\":\"Coefficient\"}},\"yaxis\":{\"automargin\":true,\"tickmode\":\"array\",\"ticktext\":[\"Hypertension (physician diagnosed) (True)\",\"Age\",\"Highest temperature (°C)\",\"Creatinine (mg\\u002fdL)\",\"Sex at birth (Male)\",\"Diabetes mellitus (True)\"],\"tickvals\":[\"Hypertension (physician diagnosed) (True)\",\"Age\",\"Highest temperature (°C)\",\"Creatinine (mg\\u002fdL)\",\"Sex at birth (Male)\",\"Diabetes mellitus (True)\"],\"title\":{\"text\":\"\"}},\"template\":{\"data\":{\"histogram2dcontour\":[{\"type\":\"histogram2dcontour\",\"colorbar\":{\"outlinewidth\":0,\"ticks\":\"\"},\"colorscale\":[[0.0,\"#0d0887\"],[0.1111111111111111,\"#46039f\"],[0.2222222222222222,\"#7201a8\"],[0.3333333333333333,\"#9c179e\"],[0.4444444444444444,\"#bd3786\"],[0.5555555555555556,\"#d8576b\"],[0.6666666666666666,\"#ed7953\"],[0.7777777777777778,\"#fb9f3a\"],[0.8888888888888888,\"#fdca26\"],[1.0,\"#f0f921\"]]}],\"choropleth\":[{\"type\":\"choropleth\",\"colorbar\":{\"outlinewidth\":0,\"ticks\":\"\"}}],\"histogram2d\":[{\"type\":\"histogram2d\",\"colorbar\":{\"outlinewidth\":0,\"ticks\":\"\"},\"colorscale\":[[0.0,\"#0d0887\"],[0.1111111111111111,\"#46039f\"],[0.2222222222222222,\"#7201a8\"],[0.3333333333333333,\"#9c179e\"],[0.4444444444444444,\"#bd3786\"],[0.5555555555555556,\"#d8576b\"],[0.6666666666666666,\"#ed7953\"],[0.7777777777777778,\"#fb9f3a\"],[0.8888888888888888,\"#fdca26\"],[1.0,\"#f0f921\"]]}],\"heatmap\":[{\"type\":\"heatmap\",\"colorbar\":{\"outlinewidth\":0,\"ticks\":\"\"},\"colorscale\":[[0.0,\"#0d0887\"],[0.1111111111111111,\"#46039f\"],[0.2222222222222222,\"#7201a8\"],[0.3333333333333333,\"#9c179e\"],[0.4444444444444444,\"#bd3786\"],[0.5555555555555556,\"#d8576b\"],[0.6666666666666666,\"#ed7953\"],[0.7777777777777778,\"#fb9f3a\"],[0.8888888888888888,\"#fdca26\"],[1.0,\"#f0f921\"]]}],\"heatmapgl\":[{\"type\":\"heatmapgl\",\"colorbar\":{\"outlinewidth\":0,\"ticks\":\"\"},\"colorscale\":[[0.0,\"#0d0887\"],[0.1111111111111111,\"#46039f\"],[0.2222222222222222,\"#7201a8\"],[0.3333333333333333,\"#9c179e\"],[0.4444444444444444,\"#bd3786\"],[0.5555555555555556,\"#d8576b\"],[0.6666666666666666,\"#ed7953\"],[0.7777777777777778,\"#fb9f3a\"],[0.8888888888888888,\"#fdca26\"],[1.0,\"#f0f921\"]]}],\"contourcarpet\":[{\"type\":\"contourcarpet\",\"colorbar\":{\"outlinewidth\":0,\"ticks\":\"\"}}],\"contour\":[{\"type\":\"contour\",\"colorbar\":{\"outlinewidth\":0,\"ticks\":\"\"},\"colorscale\":[[0.0,\"#0d0887\"],[0.1111111111111111,\"#46039f\"],[0.2222222222222222,\"#7201a8\"],[0.3333333333333333,\"#9c179e\"],[0.4444444444444444,\"#bd3786\"],[0.5555555555555556,\"#d8576b\"],[0.6666666666666666,\"#ed7953\"],[0.7777777777777778,\"#fb9f3a\"],[0.8888888888888888,\"#fdca26\"],[1.0,\"#f0f921\"]]}],\"surface\":[{\"type\":\"surface\",\"colorbar\":{\"outlinewidth\":0,\"ticks\":\"\"},\"colorscale\":[[0.0,\"#0d0887\"],[0.1111111111111111,\"#46039f\"],[0.2222222222222222,\"#7201a8\"],[0.3333333333333333,\"#9c179e\"],[0.4444444444444444,\"#bd3786\"],[0.5555555555555556,\"#d8576b\"],[0.6666666666666666,\"#ed7953\"],[0.7777777777777778,\"#fb9f3a\"],[0.8888888888888888,\"#fdca26\"],[1.0,\"#f0f921\"]]}],\"mesh3d\":[{\"type\":\"mesh3d\",\"colorbar\":{\"outlinewidth\":0,\"ticks\":\"\"}}],\"scatter\":[{\"fillpattern\":{\"fillmode\":\"overlay\",\"size\":10,\"solidity\":0.2},\"type\":\"scatter\"}],\"parcoords\":[{\"type\":\"parcoords\",\"line\":{\"colorbar\":{\"outlinewidth\":0,\"ticks\":\"\"}}}],\"scatterpolargl\":[{\"type\":\"scatterpolargl\",\"marker\":{\"colorbar\":{\"outlinewidth\":0,\"ticks\":\"\"}}}],\"bar\":[{\"error_x\":{\"color\":\"#2a3f5f\"},\"error_y\":{\"color\":\"#2a3f5f\"},\"marker\":{\"line\":{\"color\":\"#E5ECF6\",\"width\":0.5},\"pattern\":{\"fillmode\":\"overlay\",\"size\":10,\"solidity\":0.2}},\"type\":\"bar\"}],\"scattergeo\":[{\"type\":\"scattergeo\",\"marker\":{\"colorbar\":{\"outlinewidth\":0,\"ticks\":\"\"}}}],\"scatterpolar\":[{\"type\":\"scatterpolar\",\"marker\":{\"colorbar\":{\"outlinewidth\":0,\"ticks\":\"\"}}}],\"histogram\":[{\"marker\":{\"pattern\":{\"fillmode\":\"overlay\",\"size\":10,\"solidity\":0.2}},\"type\":\"histogram\"}],\"scattergl\":[{\"type\":\"scattergl\",\"marker\":{\"colorbar\":{\"outlinewidth\":0,\"ticks\":\"\"}}}],\"scatter3d\":[{\"type\":\"scatter3d\",\"line\":{\"colorbar\":{\"outlinewidth\":0,\"ticks\":\"\"}},\"marker\":{\"colorbar\":{\"outlinewidth\":0,\"ticks\":\"\"}}}],\"scattermapbox\":[{\"type\":\"scattermapbox\",\"marker\":{\"colorbar\":{\"outlinewidth\":0,\"ticks\":\"\"}}}],\"scatterternary\":[{\"type\":\"scatterternary\",\"marker\":{\"colorbar\":{\"outlinewidth\":0,\"ticks\":\"\"}}}],\"scattercarpet\":[{\"type\":\"scattercarpet\",\"marker\":{\"colorbar\":{\"outlinewidth\":0,\"ticks\":\"\"}}}],\"carpet\":[{\"aaxis\":{\"endlinecolor\":\"#2a3f5f\",\"gridcolor\":\"white\",\"linecolor\":\"white\",\"minorgridcolor\":\"white\",\"startlinecolor\":\"#2a3f5f\"},\"baxis\":{\"endlinecolor\":\"#2a3f5f\",\"gridcolor\":\"white\",\"linecolor\":\"white\",\"minorgridcolor\":\"white\",\"startlinecolor\":\"#2a3f5f\"},\"type\":\"carpet\"}],\"table\":[{\"cells\":{\"fill\":{\"color\":\"#EBF0F8\"},\"line\":{\"color\":\"white\"}},\"header\":{\"fill\":{\"color\":\"#C8D4E3\"},\"line\":{\"color\":\"white\"}},\"type\":\"table\"}],\"barpolar\":[{\"marker\":{\"line\":{\"color\":\"#E5ECF6\",\"width\":0.5},\"pattern\":{\"fillmode\":\"overlay\",\"size\":10,\"solidity\":0.2}},\"type\":\"barpolar\"}],\"pie\":[{\"automargin\":true,\"type\":\"pie\"}]},\"layout\":{\"autotypenumbers\":\"strict\",\"colorway\":[\"#636efa\",\"#EF553B\",\"#00cc96\",\"#ab63fa\",\"#FFA15A\",\"#19d3f3\",\"#FF6692\",\"#B6E880\",\"#FF97FF\",\"#FECB52\"],\"font\":{\"color\":\"#2a3f5f\"},\"hovermode\":\"closest\",\"hoverlabel\":{\"align\":\"left\"},\"paper_bgcolor\":\"white\",\"plot_bgcolor\":\"#E5ECF6\",\"polar\":{\"bgcolor\":\"#E5ECF6\",\"angularaxis\":{\"gridcolor\":\"white\",\"linecolor\":\"white\",\"ticks\":\"\"},\"radialaxis\":{\"gridcolor\":\"white\",\"linecolor\":\"white\",\"ticks\":\"\"}},\"ternary\":{\"bgcolor\":\"#E5ECF6\",\"aaxis\":{\"gridcolor\":\"white\",\"linecolor\":\"white\",\"ticks\":\"\"},\"baxis\":{\"gridcolor\":\"white\",\"linecolor\":\"white\",\"ticks\":\"\"},\"caxis\":{\"gridcolor\":\"white\",\"linecolor\":\"white\",\"ticks\":\"\"}},\"coloraxis\":{\"colorbar\":{\"outlinewidth\":0,\"ticks\":\"\"}},\"colorscale\":{\"sequential\":[[0.0,\"#0d0887\"],[0.1111111111111111,\"#46039f\"],[0.2222222222222222,\"#7201a8\"],[0.3333333333333333,\"#9c179e\"],[0.4444444444444444,\"#bd3786\"],[0.5555555555555556,\"#d8576b\"],[0.6666666666666666,\"#ed7953\"],[0.7777777777777778,\"#fb9f3a\"],[0.8888888888888888,\"#fdca26\"],[1.0,\"#f0f921\"]],\"sequentialminus\":[[0.0,\"#0d0887\"],[0.1111111111111111,\"#46039f\"],[0.2222222222222222,\"#7201a8\"],[0.3333333333333333,\"#9c179e\"],[0.4444444444444444,\"#bd3786\"],[0.5555555555555556,\"#d8576b\"],[0.6666666666666666,\"#ed7953\"],[0.7777777777777778,\"#fb9f3a\"],[0.8888888888888888,\"#fdca26\"],[1.0,\"#f0f921\"]],\"diverging\":[[0,\"#8e0152\"],[0.1,\"#c51b7d\"],[0.2,\"#de77ae\"],[0.3,\"#f1b6da\"],[0.4,\"#fde0ef\"],[0.5,\"#f7f7f7\"],[0.6,\"#e6f5d0\"],[0.7,\"#b8e186\"],[0.8,\"#7fbc41\"],[0.9,\"#4d9221\"],[1,\"#276419\"]]},\"xaxis\":{\"gridcolor\":\"white\",\"linecolor\":\"white\",\"ticks\":\"\",\"title\":{\"standoff\":15},\"zerolinecolor\":\"white\",\"automargin\":true,\"zerolinewidth\":2},\"yaxis\":{\"gridcolor\":\"white\",\"linecolor\":\"white\",\"ticks\":\"\",\"title\":{\"standoff\":15},\"zerolinecolor\":\"white\",\"automargin\":true,\"zerolinewidth\":2},\"scene\":{\"xaxis\":{\"backgroundcolor\":\"#E5ECF6\",\"gridcolor\":\"white\",\"linecolor\":\"white\",\"showbackground\":true,\"ticks\":\"\",\"zerolinecolor\":\"white\",\"gridwidth\":2},\"yaxis\":{\"backgroundcolor\":\"#E5ECF6\",\"gridcolor\":\"white\",\"linecolor\":\"white\",\"showbackground\":true,\"ticks\":\"\",\"zerolinecolor\":\"white\",\"gridwidth\":2},\"zaxis\":{\"backgroundcolor\":\"#E5ECF6\",\"gridcolor\":\"white\",\"linecolor\":\"white\",\"showbackground\":true,\"ticks\":\"\",\"zerolinecolor\":\"white\",\"gridwidth\":2}},\"shapedefaults\":{\"line\":{\"color\":\"#2a3f5f\"}},\"annotationdefaults\":{\"arrowcolor\":\"#2a3f5f\",\"arrowhead\":0,\"arrowwidth\":1},\"geo\":{\"bgcolor\":\"white\",\"landcolor\":\"#E5ECF6\",\"subunitcolor\":\"white\",\"showland\":true,\"showlakes\":true,\"lakecolor\":\"white\"},\"title\":{\"x\":0.05},\"mapbox\":{\"style\":\"light\"}}}},                        {\"responsive\": true}                    ).then(function(){\n",
              "                            \n",
              "var gd = document.getElementById('11b597c1-62b0-4b89-8258-d6760fd61eed');\n",
              "var x = new MutationObserver(function (mutations, observer) {{\n",
              "        var display = window.getComputedStyle(gd).display;\n",
              "        if (!display || display === 'none') {{\n",
              "            console.log([gd, 'removed!']);\n",
              "            Plotly.purge(gd);\n",
              "            observer.disconnect();\n",
              "        }}\n",
              "}});\n",
              "\n",
              "// Listen for the removal of the full notebook cells\n",
              "var notebookContainer = gd.closest('#notebook-container');\n",
              "if (notebookContainer) {{\n",
              "    x.observe(notebookContainer, {childList: true});\n",
              "}}\n",
              "\n",
              "// Listen for the clearing of the current output cell\n",
              "var outputEl = gd.closest('.output');\n",
              "if (outputEl) {{\n",
              "    x.observe(outputEl, {childList: true});\n",
              "}}\n",
              "\n",
              "                        })                };                            </script>        </div>\n",
              "</body>\n",
              "</html>"
            ]
          },
          "metadata": {}
        }
      ]
    },
    {
      "cell_type": "markdown",
      "source": [
        "## References"
      ],
      "metadata": {
        "id": "WxU17r4PojJk"
      }
    },
    {
      "cell_type": "markdown",
      "source": [
        "\n",
        "\n",
        "* To learn more about numpy library, please go to the <a name='id_1'> <a href='https://numpy.org/'>Numpy WebPage</a>\n",
        "<br>\n",
        "\n",
        "* To learn more about pandas library, please go to the <a name='id_2'> <a href='https://pandas.pydata.org/'>Pandas WebPage</a>\n",
        "<br>\n",
        "\n",
        "* To learn more about statsmodels library, please go to the<a name='id_3'> <a href='https://www.statsmodels.org/stable/index.html'>StatsModels WebPage</a>\n",
        "<br>\n",
        "\n",
        "* To learn more about the Pip command, please go to the <a name='pip'>\n",
        "<a href='https://pypi.org/project/pip/'>Pip WebPage</a>\n",
        "<br>\n"
      ],
      "metadata": {
        "id": "-4Y9KQcfH__j"
      }
    }
  ]
}