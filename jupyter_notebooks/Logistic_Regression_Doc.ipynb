{
  "nbformat": 4,
  "nbformat_minor": 0,
  "metadata": {
    "colab": {
      "provenance": [],
      "toc_visible": true
    },
    "kernelspec": {
      "name": "python3",
      "display_name": "Python 3"
    },
    "language_info": {
      "name": "python"
    }
  },
  "cells": [
    {
      "cell_type": "markdown",
      "source": [
        "# Understanding Logistic Regression\n",
        "\n",
        "Logistic Regression is a widely used method for modeling binary dependent variables (e.g., success/failure, 1/0). Unlike models that estimate continuous outcomes, it estimates the probability of an event occurring by transforming a linear combination of predictor variables into a probability using the logistic function.\n",
        "\n",
        "<br>\n",
        "\n",
        "---\n",
        "\n",
        "<br>\n",
        "\n",
        "## Key Concepts\n",
        "\n",
        "### 1. Logistic Function and Probabilities\n",
        "\n",
        "<dl>\n",
        "<dd>\n",
        "The logistic (or sigmoid) function converts the result of the linear combination of predictors into a probability between 0 and 1. It is expressed as:\n",
        "</dd>\n",
        "\n",
        "\n",
        "<br>\n",
        "\n",
        "<dt>\n",
        "$$\n",
        "P(Y=1 \\mid X) = \\frac{1}{1 + e^{-(\\beta_0 + \\beta_1X_1 + \\beta_2X_2 + \\dots + \\beta_pX_p)}}\n",
        "$$\n",
        "</dt>\n",
        "\n",
        "<dd>\n",
        "\n",
        "Here:\n",
        "\n",
        "<dd>\n",
        "\n",
        "* $\\beta_0$ is the intercept.\n",
        "\n",
        "\n",
        "* $\\beta_1$, $\\beta_2$, $\\dots$, $\\beta_p$ are the coefficients that measure the impact of each predictor $X_1$, $X_2$, $\\dots$, $X_p$ on the probability of the event occurring.\n",
        "\n",
        "</dl>\n",
        "\n",
        "### 2. Logit Transformation (Log-Odds)\n",
        "\n",
        "<dl>\n",
        "<dd>\n",
        "Logistic regression can be rewritten in the logit form, where the logarithm of the odds is modeled linearly:\n",
        "</dd>\n",
        "\n",
        "<br>\n",
        "\n",
        "<dt>\n",
        "$$\n",
        "\\log\\left(\\frac{P(Y=1 \\mid X)}{1 - P(Y=1 \\mid X)}\\right) = \\beta_0 + \\beta_1X_1 + \\beta_2X_2 + \\dots + \\beta_pX_p\n",
        "$$\n",
        "</dt>\n",
        "<br>\n",
        "\n",
        "\n",
        "<dd>\n",
        "This transformation allows us to interpret each coefficient \\( \\beta \\) as the change in the log-odds of the event for a one-unit change in the corresponding predictor variable.\n",
        "</dd>\n",
        "</dl>\n",
        "\n",
        "### 3. Estimation of the Coefficients\n",
        "\n",
        "<dl>\n",
        "<dd>\n",
        "Unlike least squares models, the coefficients in logistic regression are estimated using Maximum Likelihood Estimation (MLE). This method seeks the values of the coefficients that maximize the probability of observing the sampled data.\n",
        "</dd>\n",
        "</dl>\n",
        "\n",
        "<br>\n",
        "\n",
        "---\n",
        "\n",
        "<br>\n",
        "\n",
        "## Interpreting Logistic Regression\n",
        "\n",
        "### 1. Odds Ratio (OR)\n",
        "\n",
        "<dl>\n",
        "<dd>\n",
        "By exponentiating the coefficients, we obtain the odds ratios:\n",
        "</dd>\n",
        "\n",
        "<br>\n",
        "\n",
        "<dt>\n",
        "$$\n",
        "OR = e^{\\beta}\n",
        "$$\n",
        "</dt>\n",
        "<br>\n",
        "\n",
        "\n",
        "<dd>\n",
        "\n",
        "- If \\( OR > 1 \\), an increase in the predictor variable is associated with higher odds of the event occurring.\n",
        "- If \\( OR < 1 \\), the odds of the event occurring decrease.\n",
        "- If \\( OR = 1 \\), the variable has no effect on the probability of the event.\n",
        "\n",
        "</dd>\n",
        "</dl>\n",
        "\n",
        "### 2. Confidence Intervals (CI)\n",
        "\n",
        "<dl>\n",
        "<dd>\n",
        "To assess statistical significance, we compute the confidence interval (usually 95%) for the odds ratio:\n",
        "</dd>\n",
        "\n",
        "<br>\n",
        "\n",
        "<dt>\n",
        "$$\n",
        "CI = \\left[e^{(\\beta - 1.96 \\cdot \\sigma)}, \\, e^{(\\beta + 1.96 \\cdot \\sigma)}\\right]\n",
        "$$\n",
        "</dt>\n",
        "<br>\n",
        "\n",
        "\n",
        "<dd>\n",
        "\n",
        "- If the interval does not include 1, the effect of the variable is considered statistically significant.\n",
        "- If it includes 1, the effect may not be significant.\n",
        "\n",
        "</dd>\n",
        "</dl>\n",
        "\n",
        "### 3. p-value\n",
        "\n",
        "<dl>\n",
        "<dd>\n",
        "The p-value tests the null hypothesis that the coefficient is zero (i.e., that the variable does not affect the probability of the event).\n",
        "</dd>\n",
        "\n",
        "<dd>\n",
        "\n",
        "- If \\( p < 0.05 \\), the effect is statistically significant.\n",
        "- If \\( p \\geq 0.05 \\), there is insufficient evidence that the variable affects the event.\n",
        "\n",
        "</dd>\n",
        "</dl>\n",
        "\n",
        "<br>\n",
        "\n",
        "---\n",
        "\n",
        "<br>\n",
        "\n",
        "## Advantages of Logistic Regression\n",
        "\n",
        "<dl>\n",
        "<dd>\n",
        "\n",
        "- **Direct Probabilities:** It provides a direct estimate of the probability of the event, making interpretation straightforward.\n",
        "- **Interpretable Coefficients:** The odds ratios allow for a clear understanding of the impact of each predictor.\n",
        "- **Flexibility:** It can be easily extended to multiclass classifications (via multinomial logistic regression) and applied in various fields such as medicine, marketing, and social sciences.\n",
        "\n",
        "</dd>\n",
        "</dl>\n",
        "\n",
        "## Limitations of Logistic Regression\n",
        "\n",
        "<dl>\n",
        "<dd>\n",
        "\n",
        "- **Linearity Assumption in the Logit:** The model assumes that the relationship between the predictor variables and the log-odds is linear.\n",
        "- **Sensitivity to Outliers:** Extreme values can influence the estimation of the coefficients.\n",
        "- **Multicollinearity:** High correlations among predictors can distort the estimates and the interpretation of their effects.\n",
        "\n",
        "</dd>\n",
        "</dl>\n",
        "\n",
        "<br>\n",
        "\n",
        "---\n",
        "\n",
        "<br>\n"
      ],
      "metadata": {
        "id": "d9zoQLAQvNAj"
      }
    },
    {
      "cell_type": "markdown",
      "source": [
        "# Implementing the Logistic Regression Model in Python"
      ],
      "metadata": {
        "id": "6R-tUBnKW_Us"
      }
    },
    {
      "cell_type": "markdown",
      "source": [
        "\n",
        "<br>\n",
        "\n",
        "## Library import\n",
        "\n",
        "Before showing any code we are going to talk about libraries in python. Libraries are external functions that will help us to do the **Logistic Regression**. The main libraries that are going to be used are:\n",
        "\n",
        "* <a href='#id_1'>Numpy<a>\n",
        "\n",
        "\n",
        "* <a href='#id_2'>Pandas</a>\n",
        "\n",
        "\n",
        "* <a href='#id_3'>Statsmodels</a>\n",
        "\n",
        "To import those libraries in python we do the following:\n",
        "```\n",
        "import {library name}\n",
        "```\n",
        "Thus, to import our libraries we will do:\n",
        "```\n",
        "import numpy\n",
        "import pandas\n",
        "import statsmodels\n",
        "```\n",
        "To use the function of each library we will need to call them using the operator \".\" :\n",
        "```\n",
        "numpy.array()\n",
        "```\n",
        "We can also abriviate the library name using the operator \"as\" when importing the library:\n",
        "```\n",
        "import numpy as np\n",
        "\n",
        "np.array()\n",
        "```\n",
        "In addition, we an import only the function using the operator \"from\" when importing the library:\n",
        "```\n",
        "from numpy import array\n",
        "\n",
        "array()\n",
        "```\n",
        "\n",
        "<br>\n",
        "\n",
        "---\n",
        "\n",
        "<br>\n",
        "\n",
        "Now that we understand how to import libraries we will import them to our colab as follows:\n",
        "\n"
      ],
      "metadata": {
        "id": "R4NtRmWL3mPk"
      }
    },
    {
      "cell_type": "code",
      "source": [
        "import numpy as np\n",
        "import pandas as pd\n",
        "import statsmodels.api as sm\n",
        "import statsmodels.formula.api as smf"
      ],
      "metadata": {
        "id": "t9WWEwhM9_Lo"
      },
      "execution_count": null,
      "outputs": []
    },
    {
      "cell_type": "markdown",
      "source": [
        "---\n",
        "\n",
        "## Library Import Disclaimer\n",
        "\n",
        "If for some reason when trying to import those libraries you recieve a error that the library was not found you will need to install them into your python.\n",
        "\n",
        "To do so we will use the <a href='#pip'>pip</a> command in our machine, not in python. The pip command gives us the possibility to download external libraries to our computer.\n",
        "\n",
        "To download the libraries that will be used in the code for Logistic Regression we will do the follow in our terminal (cmd or powershell):\n",
        "```\n",
        "pip install numpy pandas statsmodels\n",
        "```\n",
        "<br>\n",
        "\n",
        "---"
      ],
      "metadata": {
        "id": "Ov9WmmchVajF"
      }
    },
    {
      "cell_type": "markdown",
      "source": [
        "## Defining the Logistic Regression Function\n",
        "\n",
        "Due to <a href='https://www.w3schools.com/python/python_scope.asp'>scope</a> issues from the jupyter notebook, we will be first explaining each section of the code and at the end there will be the full function displayed."
      ],
      "metadata": {
        "id": "lj-LiYqQXKr6"
      }
    },
    {
      "cell_type": "markdown",
      "source": [
        "### Defining the Logistic Regression Function\n",
        "\n",
        "The Logistic Regression function is encapsulated inside another function called GLM (Generalized Linear Model), that has the capabilities to do different types of models. Although the function that will be presented does only Logistic and Linear Regression, as seen previously, in this document we will only be seeing how it does a Logistic Regression."
      ],
      "metadata": {
        "id": "MeZZZ4DxNWAI"
      }
    },
    {
      "cell_type": "code",
      "source": [
        "def execute_glm_regression(elr_dataframe_df, elr_outcome_str, elr_predictors_list,\n",
        "                           model_type='linear', print_results=True, labels=False, reg_type=\"Multi\"):\n",
        "     \"\"\"\n",
        "    Executes a GLM (Generalized Linear Model) for linear or logistic regression.\n",
        "\n",
        "    Parameters:\n",
        "    - elr_dataframe_df: Pandas DataFrame containing the data.\n",
        "    - elr_outcome_str: Name of the outcome variable.\n",
        "    - elr_predictors_list: List of predictor variable names.\n",
        "    - model_type: 'linear' for linear regression (Gaussian) or 'logistic' for logistic regression (Binomial).\n",
        "    - print_results: If True, prints the results table.\n",
        "    - labels: (Optional) Dictionary to map variable names to human-readable labels.\n",
        "    - reg_type: Regression type ('uni' or 'multi') to rename the output columns.\n",
        "\n",
        "    Returns:\n",
        "    - summary_df: DataFrame with the model results.\n",
        "    \"\"\""
      ],
      "metadata": {
        "id": "mXe_6iipSBTd"
      },
      "execution_count": null,
      "outputs": []
    },
    {
      "cell_type": "markdown",
      "source": [
        "### Parameters Disclaimer\n",
        "\n",
        "All variables inside elr_predictors_list and elr_outcome_str need to be a colunm from elr_dataframe_df.\n",
        "\n",
        "<br>\n",
        "\n",
        "---\n"
      ],
      "metadata": {
        "id": "rpALzQCaWy4H"
      }
    },
    {
      "cell_type": "markdown",
      "source": [
        "### Defining family\n",
        "\n"
      ],
      "metadata": {
        "id": "_cDuG1-cXQkY"
      }
    },
    {
      "cell_type": "code",
      "source": [
        "if model_type.lower() == 'logistic':\n",
        "    family = sm.families.Binomial()\n",
        "elif model_type.lower() == 'linear':\n",
        "    family = sm.families.Gaussian()\n",
        "else:\n",
        "    raise ValueError(\"model_type must be 'linear' or 'logistic'\")"
      ],
      "metadata": {
        "id": "kBkc4FSqiVJx"
      },
      "execution_count": null,
      "outputs": []
    },
    {
      "cell_type": "markdown",
      "source": [
        "This section checks the model_type parameter to determine which statistical family to use:\n",
        "\n",
        "* For logistic regression ('logistic'), it sets the family to sm.families.Binomial(), which is suitable for binary outcomes.\n",
        "\n",
        "* For linear regression ('linear'), it sets the family to sm.families.Gaussian(), appropriate for continuous outcomes.\n",
        "\n",
        "* If an unsupported model_type is passed, it raises a ValueError to alert you immediately about the invalid input.\n",
        "\n",
        "<br>\n",
        "\n",
        "---\n"
      ],
      "metadata": {
        "id": "sC59bZWfiVue"
      }
    },
    {
      "cell_type": "markdown",
      "source": [
        "### Building the Formula"
      ],
      "metadata": {
        "id": "zGGDF4YMrlZb"
      }
    },
    {
      "cell_type": "code",
      "source": [
        "formula = elr_outcome_str + ' ~ ' + ' + '.join(elr_predictors_list)"
      ],
      "metadata": {
        "id": "O0tSAmZxroMz"
      },
      "execution_count": null,
      "outputs": []
    },
    {
      "cell_type": "markdown",
      "source": [
        "Here, the code constructs the regression formula using the outcome variable and predictor variables:\n",
        "\n",
        "The formula string follows the format required by **statsmodels**:\n",
        "<code>outcome ~ predictor1 + predictor2 + ...</code>\n",
        "\n",
        "<br>\n",
        "\n",
        "---\n"
      ],
      "metadata": {
        "id": "12yqSj0KrtdC"
      }
    },
    {
      "cell_type": "markdown",
      "source": [
        "### Converting Categorical Variables\n"
      ],
      "metadata": {
        "id": "S8_TF0FJsFgY"
      }
    },
    {
      "cell_type": "code",
      "source": [
        "categorical_vars = elr_dataframe_df.select_dtypes(include=['object', 'category']).columns.intersection(elr_predictors_list)\n",
        "for var in categorical_vars:\n",
        "    elr_dataframe_df[var] = elr_dataframe_df[var].astype('category')"
      ],
      "metadata": {
        "id": "VU9UgTOIsOR0"
      },
      "execution_count": null,
      "outputs": []
    },
    {
      "cell_type": "markdown",
      "source": [
        "This block ensures that any categorical predictor variables are correctly recognized:\n",
        "\n",
        "* It selects columns in the DataFrame that are of type object or category and are also listed in your predictors.\n",
        "\n",
        "* Each identified column is then converted to the category data type.\n",
        "\n",
        "<br>\n",
        "\n",
        "---\n"
      ],
      "metadata": {
        "id": "gv960uCEsQRL"
      }
    },
    {
      "cell_type": "markdown",
      "source": [
        "### Fitting the GLM Model"
      ],
      "metadata": {
        "id": "pR50pltdsYVS"
      }
    },
    {
      "cell_type": "code",
      "source": [
        "model = smf.glm(formula=formula, data=elr_dataframe_df, family=family)\n",
        "result = model.fit()"
      ],
      "metadata": {
        "id": "AWPd6jvYsdgy"
      },
      "execution_count": null,
      "outputs": []
    },
    {
      "cell_type": "markdown",
      "source": [
        "The <code>smf.glm</code> function is called with the constructed formula, the dataset, and the chosen family.\n",
        "\n",
        "The model is then fitted using the <code>.fit()</code> method, which computes the coefficients and related statistics.\n",
        "\n",
        "<br>\n",
        "\n",
        "---\n"
      ],
      "metadata": {
        "id": "ew80eo-Esd_h"
      }
    },
    {
      "cell_type": "markdown",
      "source": [
        "### Extracting the Results Table"
      ],
      "metadata": {
        "id": "zZ0vxn8PsnEP"
      }
    },
    {
      "cell_type": "code",
      "source": [
        "summary_table = result.summary2().tables[1].copy()"
      ],
      "metadata": {
        "id": "VQ-cyOLFsyBS"
      },
      "execution_count": null,
      "outputs": []
    },
    {
      "cell_type": "markdown",
      "source": [
        "After fitting the model, the summary table containing key statistics is extracted:\n",
        "\n",
        "* <code>result.summary2()</code> generates a detailed summary.\n",
        "\n",
        "* The second table (indexed at 1) is copied to work with, as it contains * coefficients, confidence intervals, and p-values.\n",
        "\n",
        "<br>\n",
        "\n",
        "---\n"
      ],
      "metadata": {
        "id": "uyMgcx9ds2Jp"
      }
    },
    {
      "cell_type": "markdown",
      "source": [
        "### Processing Results Based on Model Type"
      ],
      "metadata": {
        "id": "IO0E2EBWtBDQ"
      }
    },
    {
      "cell_type": "code",
      "source": [
        "if model_type.lower() == 'logistic':\n",
        "    summary_table['Odds Ratio'] = np.exp(summary_table['Coef.'])\n",
        "    summary_table['IC Low'] = np.exp(summary_table['[0.025'])\n",
        "    summary_table['IC High'] = np.exp(summary_table['0.975]'])\n",
        "\n",
        "    summary_df = summary_table[['Odds Ratio', 'IC Low', 'IC High', 'P>|z|']].reset_index()\n",
        "    summary_df = summary_df.rename(columns={'index': 'Study',\n",
        "                                              'Odds Ratio': 'OddsRatio',\n",
        "                                              'IC Low': 'LowerCI',\n",
        "                                              'IC High': 'UpperCI',\n",
        "                                              'P>|z|': 'p-value'})\n",
        "else:\n",
        "    summary_df = summary_table[['Coef.', '[0.025', '0.975]', 'P>|z|']].reset_index()\n",
        "    summary_df = summary_df.rename(columns={'index': 'Study',\n",
        "                                              'Coef.': 'Coefficient',\n",
        "                                              '[0.025': 'LowerCI',\n",
        "                                              '0.975]': 'UpperCI',\n",
        "                                              'P>|z|': 'p-value'})"
      ],
      "metadata": {
        "id": "ONMHACMDtDSf"
      },
      "execution_count": null,
      "outputs": []
    },
    {
      "cell_type": "markdown",
      "source": [
        "This part adjusts the results table based on the model type:\n",
        "\n",
        "* For Logistic Regression:\n",
        "\n",
        "  * The coefficients are exponentiated to convert them into odds ratios.\n",
        "\n",
        "  * Confidence intervals are also exponentiated.\n",
        "\n",
        "  * The resulting DataFrame is then restructured and columns are renamed.\n",
        "\n",
        "<br>\n",
        "\n",
        "---"
      ],
      "metadata": {
        "id": "3zoagtpRtE1f"
      }
    },
    {
      "cell_type": "markdown",
      "source": [
        "### Mapping Variable Names to Readable Labels"
      ],
      "metadata": {
        "id": "TgLGFOQ5tZeB"
      }
    },
    {
      "cell_type": "code",
      "source": [
        "if labels:\n",
        "    def parse_variable_name(var_name):\n",
        "        if var_name == 'Intercept':\n",
        "            return labels.get('Intercept', 'Intercept')\n",
        "        elif '[' in var_name:\n",
        "            base_var = var_name.split('[')[0]\n",
        "            level = var_name.split('[')[1].split(']')[0]\n",
        "            base_var_name = base_var.replace('C(', '').replace(')', '').strip()\n",
        "            label = labels.get(base_var_name, base_var_name)\n",
        "            return f'{label} ({level})'\n",
        "        else:\n",
        "            var_name_clean = var_name.replace('C(', '').replace(')', '').strip()\n",
        "            return labels.get(var_name_clean, var_name_clean)\n",
        "    summary_df['Study'] = summary_df['Study'].apply(parse_variable_name)"
      ],
      "metadata": {
        "id": "uvhM7Y_Btbaw"
      },
      "execution_count": null,
      "outputs": []
    },
    {
      "cell_type": "markdown",
      "source": [
        "This snippet remaps raw variable names to more reader-friendly labels if a labels dictionary is provided:\n",
        "\n",
        "* The function parse_variable_name checks if a variable is the intercept or a categorical variable.\n",
        "\n",
        "* For categorical variables, it extracts the base name and level, then applies the mapping.\n",
        "\n",
        "* The Study column in the summary DataFrame is updated with these parsed names.\n",
        "\n",
        "<br>\n",
        "\n",
        "---"
      ],
      "metadata": {
        "id": "V0TpNGIitdmY"
      }
    },
    {
      "cell_type": "markdown",
      "source": [
        "### Reordering and Cleaning the Columns"
      ],
      "metadata": {
        "id": "hjtJlg3Dt8cT"
      }
    },
    {
      "cell_type": "code",
      "source": [
        "if model_type.lower() == 'logistic':\n",
        "    summary_df = summary_df[['Study', 'OddsRatio', 'LowerCI', 'UpperCI', 'p-value']]\n",
        "else:\n",
        "    summary_df = summary_df[['Study', 'Coefficient', 'LowerCI', 'UpperCI', 'p-value']]\n",
        "\n",
        "summary_df['Study'] = summary_df['Study'].str.replace('T.', '')"
      ],
      "metadata": {
        "id": "Fm4AQ-zit-vs"
      },
      "execution_count": null,
      "outputs": []
    },
    {
      "cell_type": "markdown",
      "source": [
        "This section organizes the DataFrame:\n",
        "\n",
        "* Columns are reordered to ensure a logical and consistent display.\n",
        "\n",
        "* The string <code>'T.'</code>, which may appear in categorical variable names, is removed for clarity.\n",
        "\n",
        "<br>\n",
        "\n",
        "---"
      ],
      "metadata": {
        "id": "zxO_3lqluBGg"
      }
    },
    {
      "cell_type": "markdown",
      "source": [
        "### Formatting Numerical Values"
      ],
      "metadata": {
        "id": "ZEFOhR8muIK0"
      }
    },
    {
      "cell_type": "code",
      "source": [
        "for col in summary_df.columns[1:-1]:\n",
        "    summary_df[col] = summary_df[col].round(3)\n",
        "summary_df['p-value'] = summary_df['p-value'].apply(lambda x: f'{x:.4f}')"
      ],
      "metadata": {
        "id": "uf93jvFvuJ63"
      },
      "execution_count": null,
      "outputs": []
    },
    {
      "cell_type": "markdown",
      "source": [
        "This part formats the numeric values for better presentation:\n",
        "\n",
        "* Coefficients and confidence intervals are rounded to three decimal places.\n",
        "\n",
        "* p-values are formatted to four decimal places as strings.\n",
        "\n",
        "<br>\n",
        "\n",
        "---"
      ],
      "metadata": {
        "id": "-xqGJ_FuuLW_"
      }
    },
    {
      "cell_type": "markdown",
      "source": [
        "### Optional Removal of the Intercept Row"
      ],
      "metadata": {
        "id": "R0g-qSfSuRqX"
      }
    },
    {
      "cell_type": "code",
      "source": [
        "summary_df = summary_df[summary_df['Study'] != 'Intercept']"
      ],
      "metadata": {
        "id": "tn6CScHruWDo"
      },
      "execution_count": null,
      "outputs": []
    },
    {
      "cell_type": "markdown",
      "source": [
        "The intercept row is removed from the summary DataFrame:\n",
        "\n",
        "* Often, the intercept is not of primary interest, so this step omits it from the final results.\n",
        "\n",
        "<br>\n",
        "\n",
        "---"
      ],
      "metadata": {
        "id": "1Ojil6jxuWlf"
      }
    },
    {
      "cell_type": "markdown",
      "source": [
        "### Renaming Columns Based on Regression Type"
      ],
      "metadata": {
        "id": "GcnZTJB9uZQC"
      }
    },
    {
      "cell_type": "code",
      "source": [
        "if reg_type.lower() == 'uni':\n",
        "    if model_type.lower() == 'logistic':\n",
        "        summary_df.rename(columns={\n",
        "            'OddsRatio': 'OddsRatio (uni)',\n",
        "            'LowerCI': 'LowerCI (uni)',\n",
        "            'UpperCI': 'UpperCI (uni)',\n",
        "            'p-value': 'p-value (uni)'\n",
        "        }, inplace=True)\n",
        "    else:\n",
        "        summary_df.rename(columns={\n",
        "            'Coefficient': 'Coefficient (uni)',\n",
        "            'LowerCI': 'LowerCI (uni)',\n",
        "            'UpperCI': 'UpperCI (uni)',\n",
        "            'p-value': 'p-value (uni)'\n",
        "        }, inplace=True)\n",
        "elif reg_type.lower() == 'multi':\n",
        "    if model_type.lower() == 'logistic':\n",
        "        summary_df.rename(columns={\n",
        "            'OddsRatio': 'OddsRatio (multi)',\n",
        "            'LowerCI': 'LowerCI (multi)',\n",
        "            'UpperCI': 'UpperCI (multi)',\n",
        "            'p-value': 'p-value (multi)'\n",
        "        }, inplace=True)\n",
        "    else:\n",
        "        summary_df.rename(columns={\n",
        "            'Coefficient': 'Coefficient (multi)',\n",
        "            'LowerCI': 'LowerCI (multi)',\n",
        "            'UpperCI': 'UpperCI (multi)',\n",
        "            'p-value': 'p-value (multi)'\n",
        "        }, inplace=True)"
      ],
      "metadata": {
        "id": "EH20jXWaulOR"
      },
      "execution_count": null,
      "outputs": []
    },
    {
      "cell_type": "markdown",
      "source": [
        "Based on whether you are performing univariate or multivariate regression, this section renames the columns:\n",
        "\n",
        "* A suffix ((uni) or (multi)) is appended to each column name.\n",
        "\n",
        "* This clarifies which type of regression analysis the results pertain to.\n",
        "\n",
        "<br>\n",
        "\n",
        "---"
      ],
      "metadata": {
        "id": "pyigbtj3um_P"
      }
    },
    {
      "cell_type": "markdown",
      "source": [
        "### Output and Return"
      ],
      "metadata": {
        "id": "E6gQ1-xFusT1"
      }
    },
    {
      "cell_type": "code",
      "source": [
        "if print_results:\n",
        "    print(summary_df)\n",
        "\n",
        "return summary_df"
      ],
      "metadata": {
        "id": "JuHxKloluyUN"
      },
      "execution_count": null,
      "outputs": []
    },
    {
      "cell_type": "markdown",
      "source": [
        "Finally:\n",
        "\n",
        "* If print_results is True, the function prints the formatted summary DataFrame.\n",
        "\n",
        "* The summary DataFrame is then returned, allowing further use or inspection of the results."
      ],
      "metadata": {
        "id": "30bKKt-RuvKY"
      }
    },
    {
      "cell_type": "markdown",
      "source": [
        "## Full Code"
      ],
      "metadata": {
        "id": "tvQvBLk_5gSv"
      }
    },
    {
      "cell_type": "code",
      "source": [
        "import numpy as np\n",
        "import pandas as pd\n",
        "import statsmodels.api as sm\n",
        "import statsmodels.formula.api as smf\n",
        "\n",
        "def execute_glm_regression(elr_dataframe_df, elr_outcome_str, elr_predictors_list,\n",
        "                           model_type='linear', print_results=True, labels=False, reg_type=\"Multi\"):\n",
        "    \"\"\"\n",
        "    Executes a GLM (Generalized Linear Model) for linear or logistic regression.\n",
        "\n",
        "    Parameters:\n",
        "    - elr_dataframe_df: Pandas DataFrame containing the data.\n",
        "    - elr_outcome_str: Name of the outcome variable.\n",
        "    - elr_predictors_list: List of predictor variable names.\n",
        "    - model_type: 'linear' for linear regression (Gaussian) or 'logistic' for logistic regression (Binomial).\n",
        "    - print_results: If True, prints the results table.\n",
        "    - labels: (Optional) Dictionary to map variable names to human-readable labels.\n",
        "    - reg_type: Regression type ('uni' or 'multi') to rename the output columns.\n",
        "\n",
        "    Returns:\n",
        "    - summary_df: DataFrame with the model results.\n",
        "    \"\"\"\n",
        "\n",
        "    # 1. Define the family based on model_type\n",
        "    if model_type.lower() == 'logistic':\n",
        "        family = sm.families.Binomial()\n",
        "    elif model_type.lower() == 'linear':\n",
        "        family = sm.families.Gaussian()\n",
        "    else:\n",
        "        raise ValueError(\"model_type must be 'linear' or 'logistic'\")\n",
        "\n",
        "    # 2. Build the formula string for the regression model\n",
        "    formula = elr_outcome_str + ' ~ ' + ' + '.join(elr_predictors_list)\n",
        "\n",
        "    # 3. Convert categorical variables to the 'category' type\n",
        "    categorical_vars = elr_dataframe_df.select_dtypes(include=['object', 'category']).columns.intersection(elr_predictors_list)\n",
        "    for var in categorical_vars:\n",
        "        elr_dataframe_df[var] = elr_dataframe_df[var].astype('category')\n",
        "\n",
        "    # 4. Fit the GLM model using the specified formula, data, and family\n",
        "    model = smf.glm(formula=formula, data=elr_dataframe_df, family=family)\n",
        "    result = model.fit()\n",
        "\n",
        "    # 5. Extract the results table from the model summary\n",
        "    summary_table = result.summary2().tables[1].copy()\n",
        "\n",
        "    # 6. Process the results for logistic or linear regression\n",
        "    if model_type.lower() == 'logistic':\n",
        "        # For logistic regression, compute Odds Ratios and their confidence intervals\n",
        "        summary_table['Odds Ratio'] = np.exp(summary_table['Coef.'])\n",
        "        summary_table['IC Low'] = np.exp(summary_table['[0.025'])\n",
        "        summary_table['IC High'] = np.exp(summary_table['0.975]'])\n",
        "\n",
        "        summary_df = summary_table[['Odds Ratio', 'IC Low', 'IC High', 'P>|z|']].reset_index()\n",
        "        summary_df = summary_df.rename(columns={'index': 'Study',\n",
        "                                                  'Odds Ratio': 'OddsRatio',\n",
        "                                                  'IC Low': 'LowerCI',\n",
        "                                                  'IC High': 'UpperCI',\n",
        "                                                  'P>|z|': 'p-value'})\n",
        "    else:\n",
        "        # For linear regression, use the coefficients and confidence intervals directly\n",
        "        summary_df = summary_table[['Coef.', '[0.025', '0.975]', 'P>|z|']].reset_index()\n",
        "        summary_df = summary_df.rename(columns={'index': 'Study',\n",
        "                                                  'Coef.': 'Coefficient',\n",
        "                                                  '[0.025': 'LowerCI',\n",
        "                                                  '0.975]': 'UpperCI',\n",
        "                                                  'P>|z|': 'p-value'})\n",
        "\n",
        "    # 7. Map variable names to human-readable labels if a labels dictionary is provided\n",
        "    if labels:\n",
        "        def parse_variable_name(var_name):\n",
        "            if var_name == 'Intercept':\n",
        "                return labels.get('Intercept', 'Intercept')\n",
        "            elif '[' in var_name:\n",
        "                base_var = var_name.split('[')[0]\n",
        "                level = var_name.split('[')[1].split(']')[0]\n",
        "                base_var_name = base_var.replace('C(', '').replace(')', '').strip()\n",
        "                label = labels.get(base_var_name, base_var_name)\n",
        "                return f'{label} ({level})'\n",
        "            else:\n",
        "                var_name_clean = var_name.replace('C(', '').replace(')', '').strip()\n",
        "                return labels.get(var_name_clean, var_name_clean)\n",
        "        summary_df['Study'] = summary_df['Study'].apply(parse_variable_name)\n",
        "\n",
        "    # 8. Reorder the columns for clarity\n",
        "    if model_type.lower() == 'logistic':\n",
        "        summary_df = summary_df[['Study', 'OddsRatio', 'LowerCI', 'UpperCI', 'p-value']]\n",
        "    else:\n",
        "        summary_df = summary_df[['Study', 'Coefficient', 'LowerCI', 'UpperCI', 'p-value']]\n",
        "\n",
        "    # 9. Remove the letter 'T.' from categorical variable names\n",
        "    summary_df['Study'] = summary_df['Study'].str.replace('T.', '')\n",
        "\n",
        "    # 10. Format numerical values (round coefficients and confidence intervals, format p-values)\n",
        "    for col in summary_df.columns[1:-1]:\n",
        "        summary_df[col] = summary_df[col].round(3)\n",
        "    summary_df['p-value'] = summary_df['p-value'].apply(lambda x: f'{x:.4f}')\n",
        "\n",
        "    # 11. Optionally remove the intercept row if not needed\n",
        "    summary_df = summary_df[summary_df['Study'] != 'Intercept']\n",
        "\n",
        "    # 12. Rename columns based on the regression type (univariate or multivariate)\n",
        "    if reg_type.lower() == 'uni':\n",
        "        if model_type.lower() == 'logistic':\n",
        "            summary_df.rename(columns={\n",
        "                'OddsRatio': 'OddsRatio (uni)',\n",
        "                'LowerCI': 'LowerCI (uni)',\n",
        "                'UpperCI': 'UpperCI (uni)',\n",
        "                'p-value': 'p-value (uni)'\n",
        "            }, inplace=True)\n",
        "        else:\n",
        "            summary_df.rename(columns={\n",
        "                'Coefficient': 'Coefficient (uni)',\n",
        "                'LowerCI': 'LowerCI (uni)',\n",
        "                'UpperCI': 'UpperCI (uni)',\n",
        "                'p-value': 'p-value (uni)'\n",
        "            }, inplace=True)\n",
        "    elif reg_type.lower() == 'multi':\n",
        "        if model_type.lower() == 'logistic':\n",
        "            summary_df.rename(columns={\n",
        "                'OddsRatio': 'OddsRatio (multi)',\n",
        "                'LowerCI': 'LowerCI (multi)',\n",
        "                'UpperCI': 'UpperCI (multi)',\n",
        "                'p-value': 'p-value (multi)'\n",
        "            }, inplace=True)\n",
        "        else:\n",
        "            summary_df.rename(columns={\n",
        "                'Coefficient': 'Coefficient (multi)',\n",
        "                'LowerCI': 'LowerCI (multi)',\n",
        "                'UpperCI': 'UpperCI (multi)',\n",
        "                'p-value': 'p-value (multi)'\n",
        "            }, inplace=True)\n",
        "\n",
        "    # 13. Print the results if print_results is True\n",
        "    if print_results:\n",
        "        print(summary_df)\n",
        "\n",
        "    # 14. Return the summary DataFrame with all the model results\n",
        "    return summary_df"
      ],
      "metadata": {
        "id": "IAfRM-tx5i1R"
      },
      "execution_count": null,
      "outputs": []
    },
    {
      "cell_type": "markdown",
      "source": [
        "---\n",
        "\n",
        "# User Case Example\n",
        "\n",
        "In the following example, we will be doing a **Logistic Regression** using a synthetic data do show to would be the implementation of the code in a real cenario.\n",
        "\n",
        "In the following code we are implementing a Logistic Regression to a synthetic data, the Logistic Regression will be on top of age and sex.\n"
      ],
      "metadata": {
        "id": "_2T-uK39r53f"
      }
    },
    {
      "cell_type": "markdown",
      "source": [
        "---\n",
        "\n",
        "## Defining Variables\n",
        "\n",
        "Before a Logistic Regression, we need to define the predictors variable(s) and the outcome variable we want to analyze. In our example we are analyzing Death rate by Age. In addition, is important to notice that the database I will be using is synthetic data, so the results that will be displayed are not real just a example of what the function Logistic Regression is able to do."
      ],
      "metadata": {
        "id": "NesJ0iE7xzwc"
      }
    },
    {
      "cell_type": "markdown",
      "source": [
        "---\n",
        "\n",
        "## Importing libraries"
      ],
      "metadata": {
        "id": "BDFCLAM9FLFE"
      }
    },
    {
      "cell_type": "code",
      "source": [
        "import pandas as pd\n",
        "from google.colab import files"
      ],
      "metadata": {
        "id": "AE04FWxDFKoL"
      },
      "execution_count": null,
      "outputs": []
    },
    {
      "cell_type": "markdown",
      "source": [
        "---\n",
        "\n",
        "## Gathering data from database\n",
        "\n",
        "In this step, normally what would happen is that you would only declare what data will be analyzed and execute the function. However, in this dataset, the outcome variables were not Binary but categorical, and the logistic regression only execpts binary variable as a outcome. So was needed to create a binary reference from the outcome variable. Although, this is from case to case."
      ],
      "metadata": {
        "id": "V5pLHFnC8dpR"
      }
    },
    {
      "cell_type": "code",
      "source": [
        "# Uploading data set\n",
        "uploaded = files.upload()\n",
        "df_map = pd.read_csv(\"df_map.csv\")\n",
        "\n",
        "# Creating binary variables for age, as age is between 0-110 in the normal dataset.\n",
        "bins = list(range(0, 110, 10))\n",
        "labels = [f\"{i}_{i+10}\" for i in bins[:-1]]\n",
        "\n",
        "df_map['age_bin'] = pd.cut(df_map['demog_age'], bins=bins, labels=labels, right=False)\n",
        "\n",
        "age_dummies = pd.get_dummies(df_map['age_bin'], prefix='age')\n",
        "df_map = pd.concat([df_map, age_dummies], axis=1)\n",
        "\n",
        "# Choosing one category for outcome, as this is not a multinomial regression.\n",
        "df_map['outcome_binary'] = (df_map['outco_binary_outcome'] == 'Death').astype(int)\n",
        "\n",
        "# Defining outcome and predictors variables\n",
        "outcome = \"outcome_binary\"\n",
        "predictors = [\"demog_sex\" , \"age_bin\"]"
      ],
      "metadata": {
        "colab": {
          "base_uri": "https://localhost:8080/",
          "height": 74
        },
        "id": "9R9uQWoxFHP8",
        "outputId": "8560ca19-2ebf-488b-d1eb-390e646052e0"
      },
      "execution_count": null,
      "outputs": [
        {
          "output_type": "display_data",
          "data": {
            "text/plain": [
              "<IPython.core.display.HTML object>"
            ],
            "text/html": [
              "\n",
              "     <input type=\"file\" id=\"files-0e0c49ec-0065-4b1f-a9b4-da999bd8ac9d\" name=\"files[]\" multiple disabled\n",
              "        style=\"border:none\" />\n",
              "     <output id=\"result-0e0c49ec-0065-4b1f-a9b4-da999bd8ac9d\">\n",
              "      Upload widget is only available when the cell has been executed in the\n",
              "      current browser session. Please rerun this cell to enable.\n",
              "      </output>\n",
              "      <script>// Copyright 2017 Google LLC\n",
              "//\n",
              "// Licensed under the Apache License, Version 2.0 (the \"License\");\n",
              "// you may not use this file except in compliance with the License.\n",
              "// You may obtain a copy of the License at\n",
              "//\n",
              "//      http://www.apache.org/licenses/LICENSE-2.0\n",
              "//\n",
              "// Unless required by applicable law or agreed to in writing, software\n",
              "// distributed under the License is distributed on an \"AS IS\" BASIS,\n",
              "// WITHOUT WARRANTIES OR CONDITIONS OF ANY KIND, either express or implied.\n",
              "// See the License for the specific language governing permissions and\n",
              "// limitations under the License.\n",
              "\n",
              "/**\n",
              " * @fileoverview Helpers for google.colab Python module.\n",
              " */\n",
              "(function(scope) {\n",
              "function span(text, styleAttributes = {}) {\n",
              "  const element = document.createElement('span');\n",
              "  element.textContent = text;\n",
              "  for (const key of Object.keys(styleAttributes)) {\n",
              "    element.style[key] = styleAttributes[key];\n",
              "  }\n",
              "  return element;\n",
              "}\n",
              "\n",
              "// Max number of bytes which will be uploaded at a time.\n",
              "const MAX_PAYLOAD_SIZE = 100 * 1024;\n",
              "\n",
              "function _uploadFiles(inputId, outputId) {\n",
              "  const steps = uploadFilesStep(inputId, outputId);\n",
              "  const outputElement = document.getElementById(outputId);\n",
              "  // Cache steps on the outputElement to make it available for the next call\n",
              "  // to uploadFilesContinue from Python.\n",
              "  outputElement.steps = steps;\n",
              "\n",
              "  return _uploadFilesContinue(outputId);\n",
              "}\n",
              "\n",
              "// This is roughly an async generator (not supported in the browser yet),\n",
              "// where there are multiple asynchronous steps and the Python side is going\n",
              "// to poll for completion of each step.\n",
              "// This uses a Promise to block the python side on completion of each step,\n",
              "// then passes the result of the previous step as the input to the next step.\n",
              "function _uploadFilesContinue(outputId) {\n",
              "  const outputElement = document.getElementById(outputId);\n",
              "  const steps = outputElement.steps;\n",
              "\n",
              "  const next = steps.next(outputElement.lastPromiseValue);\n",
              "  return Promise.resolve(next.value.promise).then((value) => {\n",
              "    // Cache the last promise value to make it available to the next\n",
              "    // step of the generator.\n",
              "    outputElement.lastPromiseValue = value;\n",
              "    return next.value.response;\n",
              "  });\n",
              "}\n",
              "\n",
              "/**\n",
              " * Generator function which is called between each async step of the upload\n",
              " * process.\n",
              " * @param {string} inputId Element ID of the input file picker element.\n",
              " * @param {string} outputId Element ID of the output display.\n",
              " * @return {!Iterable<!Object>} Iterable of next steps.\n",
              " */\n",
              "function* uploadFilesStep(inputId, outputId) {\n",
              "  const inputElement = document.getElementById(inputId);\n",
              "  inputElement.disabled = false;\n",
              "\n",
              "  const outputElement = document.getElementById(outputId);\n",
              "  outputElement.innerHTML = '';\n",
              "\n",
              "  const pickedPromise = new Promise((resolve) => {\n",
              "    inputElement.addEventListener('change', (e) => {\n",
              "      resolve(e.target.files);\n",
              "    });\n",
              "  });\n",
              "\n",
              "  const cancel = document.createElement('button');\n",
              "  inputElement.parentElement.appendChild(cancel);\n",
              "  cancel.textContent = 'Cancel upload';\n",
              "  const cancelPromise = new Promise((resolve) => {\n",
              "    cancel.onclick = () => {\n",
              "      resolve(null);\n",
              "    };\n",
              "  });\n",
              "\n",
              "  // Wait for the user to pick the files.\n",
              "  const files = yield {\n",
              "    promise: Promise.race([pickedPromise, cancelPromise]),\n",
              "    response: {\n",
              "      action: 'starting',\n",
              "    }\n",
              "  };\n",
              "\n",
              "  cancel.remove();\n",
              "\n",
              "  // Disable the input element since further picks are not allowed.\n",
              "  inputElement.disabled = true;\n",
              "\n",
              "  if (!files) {\n",
              "    return {\n",
              "      response: {\n",
              "        action: 'complete',\n",
              "      }\n",
              "    };\n",
              "  }\n",
              "\n",
              "  for (const file of files) {\n",
              "    const li = document.createElement('li');\n",
              "    li.append(span(file.name, {fontWeight: 'bold'}));\n",
              "    li.append(span(\n",
              "        `(${file.type || 'n/a'}) - ${file.size} bytes, ` +\n",
              "        `last modified: ${\n",
              "            file.lastModifiedDate ? file.lastModifiedDate.toLocaleDateString() :\n",
              "                                    'n/a'} - `));\n",
              "    const percent = span('0% done');\n",
              "    li.appendChild(percent);\n",
              "\n",
              "    outputElement.appendChild(li);\n",
              "\n",
              "    const fileDataPromise = new Promise((resolve) => {\n",
              "      const reader = new FileReader();\n",
              "      reader.onload = (e) => {\n",
              "        resolve(e.target.result);\n",
              "      };\n",
              "      reader.readAsArrayBuffer(file);\n",
              "    });\n",
              "    // Wait for the data to be ready.\n",
              "    let fileData = yield {\n",
              "      promise: fileDataPromise,\n",
              "      response: {\n",
              "        action: 'continue',\n",
              "      }\n",
              "    };\n",
              "\n",
              "    // Use a chunked sending to avoid message size limits. See b/62115660.\n",
              "    let position = 0;\n",
              "    do {\n",
              "      const length = Math.min(fileData.byteLength - position, MAX_PAYLOAD_SIZE);\n",
              "      const chunk = new Uint8Array(fileData, position, length);\n",
              "      position += length;\n",
              "\n",
              "      const base64 = btoa(String.fromCharCode.apply(null, chunk));\n",
              "      yield {\n",
              "        response: {\n",
              "          action: 'append',\n",
              "          file: file.name,\n",
              "          data: base64,\n",
              "        },\n",
              "      };\n",
              "\n",
              "      let percentDone = fileData.byteLength === 0 ?\n",
              "          100 :\n",
              "          Math.round((position / fileData.byteLength) * 100);\n",
              "      percent.textContent = `${percentDone}% done`;\n",
              "\n",
              "    } while (position < fileData.byteLength);\n",
              "  }\n",
              "\n",
              "  // All done.\n",
              "  yield {\n",
              "    response: {\n",
              "      action: 'complete',\n",
              "    }\n",
              "  };\n",
              "}\n",
              "\n",
              "scope.google = scope.google || {};\n",
              "scope.google.colab = scope.google.colab || {};\n",
              "scope.google.colab._files = {\n",
              "  _uploadFiles,\n",
              "  _uploadFilesContinue,\n",
              "};\n",
              "})(self);\n",
              "</script> "
            ]
          },
          "metadata": {}
        },
        {
          "output_type": "stream",
          "name": "stdout",
          "text": [
            "Saving df_map.csv to df_map.csv\n"
          ]
        }
      ]
    },
    {
      "cell_type": "markdown",
      "source": [
        "---\n",
        "\n",
        "## Executing the function\n",
        "\n",
        "To execute the function we will input the variables that we chose and most importantly, choose the model_type to be logistic. Otherwise it will execute a linear regression. Also, want to print the results and we are doing a multivariet regression."
      ],
      "metadata": {
        "id": "pWWQFhTKF2kF"
      }
    },
    {
      "cell_type": "code",
      "source": [
        "logistic_response = execute_glm_regression(\n",
        "    elr_dataframe_df=df_map,\n",
        "    elr_outcome_str=outcome,\n",
        "    elr_predictors_list=predictors,\n",
        "    model_type='logistic',\n",
        "    print_results=True,\n",
        "    labels=False,\n",
        "    reg_type=\"Multi\"\n",
        ")"
      ],
      "metadata": {
        "colab": {
          "base_uri": "https://localhost:8080/"
        },
        "id": "CFfeX3f4JuoE",
        "outputId": "faaf1665-d2b9-4d53-da0e-97f30a4dea0a"
      },
      "execution_count": null,
      "outputs": [
        {
          "output_type": "stream",
          "name": "stdout",
          "text": [
            "              Study  OddsRatio (multi)  LowerCI (multi)  UpperCI (multi)  \\\n",
            "1   demog_sex[Male]              1.700            1.080            2.675   \n",
            "2    age_bin[10_20]              0.000            0.000              inf   \n",
            "3    age_bin[20_30]              1.191            0.258            5.502   \n",
            "4    age_bin[30_40]              0.775            0.156            3.855   \n",
            "5    age_bin[40_50]              1.508            0.332            6.847   \n",
            "6    age_bin[50_60]              0.609            0.112            3.312   \n",
            "7    age_bin[60_70]              1.057            0.207            5.396   \n",
            "8    age_bin[70_80]              2.389            0.517           11.027   \n",
            "9    age_bin[80_90]              2.326            0.486           11.135   \n",
            "10  age_bin[90_100]              3.080            0.450           21.067   \n",
            "\n",
            "   p-value (multi)  \n",
            "1           0.0218  \n",
            "2           0.9990  \n",
            "3           0.8231  \n",
            "4           0.7550  \n",
            "5           0.5948  \n",
            "6           0.5661  \n",
            "7           0.9466  \n",
            "8           0.2645  \n",
            "9           0.2907  \n",
            "10          0.2516  \n"
          ]
        },
        {
          "output_type": "stream",
          "name": "stderr",
          "text": [
            "/usr/local/lib/python3.11/dist-packages/pandas/core/arraylike.py:399: RuntimeWarning: overflow encountered in exp\n",
            "  result = getattr(ufunc, method)(*inputs, **kwargs)\n"
          ]
        }
      ]
    },
    {
      "cell_type": "markdown",
      "source": [
        "---\n",
        "\n",
        "## Analyzing results with Forest Plot\n",
        "\n",
        "Forest Plot is a graphical method of analyzing the result table of the logistic regression. Where each point is a OddsRation and is visible the Lower and Upper confidence interval.\n",
        "\n",
        "Below is the full code for the Forest Plot:"
      ],
      "metadata": {
        "id": "IJOxdcEZMdDm"
      }
    },
    {
      "cell_type": "code",
      "source": [
        "import pandas as pd\n",
        "import plotly.graph_objs as go\n",
        "\n",
        "\n",
        "def fig_forest_plot(\n",
        "        df, dictionary=None,\n",
        "        title='Forest Plot',\n",
        "        labels=['Study', 'OddsRatio', 'LowerCI', 'UpperCI'],\n",
        "        graph_id='forest-plot', graph_label='', graph_about='',\n",
        "        only_display=False):\n",
        "\n",
        "    # Ordering Values -> Descending Order\n",
        "    df = df.sort_values(by=labels[1], ascending=True)\n",
        "\n",
        "    # Error Handling\n",
        "    if not set(labels).issubset(df.columns):\n",
        "        print(df.columns)\n",
        "        error_str = f'Dataframe must contain the following columns: {labels}'\n",
        "        raise ValueError(error_str)\n",
        "\n",
        "    # Prepare Data Traces\n",
        "    traces = []\n",
        "\n",
        "    # Add the point estimates as scatter plot points\n",
        "    traces.append(\n",
        "        go.Scatter(\n",
        "            x=df[labels[1]],\n",
        "            y=df[labels[0]],\n",
        "            mode='markers',\n",
        "            name='Odds Ratio',\n",
        "            marker=dict(color='blue', size=10))\n",
        "    )\n",
        "\n",
        "    # Add the confidence intervals as lines\n",
        "    for index, row in df.iterrows():\n",
        "        traces.append(\n",
        "            go.Scatter(\n",
        "                x=[row[labels[2]], row[labels[3]]],\n",
        "                y=[row[labels[0]], row[labels[0]]],\n",
        "                mode='lines',\n",
        "                showlegend=False,\n",
        "                line=dict(color='blue', width=2))\n",
        "        )\n",
        "\n",
        "    # Define layout\n",
        "    layout = go.Layout(\n",
        "        title=title,\n",
        "        xaxis=dict(title='Odds Ratio'),\n",
        "        yaxis=dict(\n",
        "            title='', automargin=True, tickmode='array',\n",
        "            tickvals=df[labels[0]].tolist(), ticktext=df[labels[0]].tolist()),\n",
        "        shapes=[\n",
        "            dict(\n",
        "                type='line', x0=1, y0=-0.5, x1=1, y1=len(df[labels[0]])-0.5,\n",
        "                line=dict(color='red', width=2)\n",
        "            )],  # Line of no effect\n",
        "        margin=dict(l=100, r=100, t=100, b=50),\n",
        "        height=600\n",
        "    )\n",
        "\n",
        "    return go.Figure(data=traces, layout=layout)"
      ],
      "metadata": {
        "id": "i148x5Mj642H"
      },
      "execution_count": null,
      "outputs": []
    },
    {
      "cell_type": "markdown",
      "source": [
        "---\n",
        "\n",
        "## Executing Forest Plot"
      ],
      "metadata": {
        "id": "Q0qplG9H7oDO"
      }
    },
    {
      "cell_type": "code",
      "source": [
        "graph = fig_forest_plot(\n",
        "    df = logistic_response,\n",
        "    labels = logistic_response.columns.tolist(),\n",
        "    only_display=True\n",
        ")\n",
        "\n",
        "graph.show()"
      ],
      "metadata": {
        "colab": {
          "base_uri": "https://localhost:8080/",
          "height": 617
        },
        "id": "7J9Cruv_7zwM",
        "outputId": "22a6ccb6-8dd8-4854-f7db-33e8599914b7"
      },
      "execution_count": null,
      "outputs": [
        {
          "output_type": "display_data",
          "data": {
            "text/html": [
              "<html>\n",
              "<head><meta charset=\"utf-8\" /></head>\n",
              "<body>\n",
              "    <div>            <script src=\"https://cdnjs.cloudflare.com/ajax/libs/mathjax/2.7.5/MathJax.js?config=TeX-AMS-MML_SVG\"></script><script type=\"text/javascript\">if (window.MathJax && window.MathJax.Hub && window.MathJax.Hub.Config) {window.MathJax.Hub.Config({SVG: {font: \"STIX-Web\"}});}</script>                <script type=\"text/javascript\">window.PlotlyConfig = {MathJaxConfig: 'local'};</script>\n",
              "        <script charset=\"utf-8\" src=\"https://cdn.plot.ly/plotly-2.35.2.min.js\"></script>                <div id=\"011a48ef-c392-4faa-a206-a53cb8743033\" class=\"plotly-graph-div\" style=\"height:600px; width:100%;\"></div>            <script type=\"text/javascript\">                                    window.PLOTLYENV=window.PLOTLYENV || {};                                    if (document.getElementById(\"011a48ef-c392-4faa-a206-a53cb8743033\")) {                    Plotly.newPlot(                        \"011a48ef-c392-4faa-a206-a53cb8743033\",                        [{\"marker\":{\"color\":\"blue\",\"size\":10},\"mode\":\"markers\",\"name\":\"Odds Ratio\",\"x\":[0.0,0.609,0.775,1.057,1.191,1.508,1.7,2.326,2.389,3.08],\"y\":[\"age_bin[10_20]\",\"age_bin[50_60]\",\"age_bin[30_40]\",\"age_bin[60_70]\",\"age_bin[20_30]\",\"age_bin[40_50]\",\"demog_sex[Male]\",\"age_bin[80_90]\",\"age_bin[70_80]\",\"age_bin[90_100]\"],\"type\":\"scatter\"},{\"line\":{\"color\":\"blue\",\"width\":2},\"mode\":\"lines\",\"showlegend\":false,\"x\":[0.0,null],\"y\":[\"age_bin[10_20]\",\"age_bin[10_20]\"],\"type\":\"scatter\"},{\"line\":{\"color\":\"blue\",\"width\":2},\"mode\":\"lines\",\"showlegend\":false,\"x\":[0.112,3.312],\"y\":[\"age_bin[50_60]\",\"age_bin[50_60]\"],\"type\":\"scatter\"},{\"line\":{\"color\":\"blue\",\"width\":2},\"mode\":\"lines\",\"showlegend\":false,\"x\":[0.156,3.855],\"y\":[\"age_bin[30_40]\",\"age_bin[30_40]\"],\"type\":\"scatter\"},{\"line\":{\"color\":\"blue\",\"width\":2},\"mode\":\"lines\",\"showlegend\":false,\"x\":[0.207,5.396],\"y\":[\"age_bin[60_70]\",\"age_bin[60_70]\"],\"type\":\"scatter\"},{\"line\":{\"color\":\"blue\",\"width\":2},\"mode\":\"lines\",\"showlegend\":false,\"x\":[0.258,5.502],\"y\":[\"age_bin[20_30]\",\"age_bin[20_30]\"],\"type\":\"scatter\"},{\"line\":{\"color\":\"blue\",\"width\":2},\"mode\":\"lines\",\"showlegend\":false,\"x\":[0.332,6.847],\"y\":[\"age_bin[40_50]\",\"age_bin[40_50]\"],\"type\":\"scatter\"},{\"line\":{\"color\":\"blue\",\"width\":2},\"mode\":\"lines\",\"showlegend\":false,\"x\":[1.08,2.675],\"y\":[\"demog_sex[Male]\",\"demog_sex[Male]\"],\"type\":\"scatter\"},{\"line\":{\"color\":\"blue\",\"width\":2},\"mode\":\"lines\",\"showlegend\":false,\"x\":[0.486,11.135],\"y\":[\"age_bin[80_90]\",\"age_bin[80_90]\"],\"type\":\"scatter\"},{\"line\":{\"color\":\"blue\",\"width\":2},\"mode\":\"lines\",\"showlegend\":false,\"x\":[0.517,11.027],\"y\":[\"age_bin[70_80]\",\"age_bin[70_80]\"],\"type\":\"scatter\"},{\"line\":{\"color\":\"blue\",\"width\":2},\"mode\":\"lines\",\"showlegend\":false,\"x\":[0.45,21.067],\"y\":[\"age_bin[90_100]\",\"age_bin[90_100]\"],\"type\":\"scatter\"}],                        {\"height\":600,\"margin\":{\"b\":50,\"l\":100,\"r\":100,\"t\":100},\"shapes\":[{\"line\":{\"color\":\"red\",\"width\":2},\"type\":\"line\",\"x0\":1,\"x1\":1,\"y0\":-0.5,\"y1\":9.5}],\"title\":{\"text\":\"Forest Plot\"},\"xaxis\":{\"title\":{\"text\":\"Odds Ratio\"}},\"yaxis\":{\"automargin\":true,\"tickmode\":\"array\",\"ticktext\":[\"age_bin[10_20]\",\"age_bin[50_60]\",\"age_bin[30_40]\",\"age_bin[60_70]\",\"age_bin[20_30]\",\"age_bin[40_50]\",\"demog_sex[Male]\",\"age_bin[80_90]\",\"age_bin[70_80]\",\"age_bin[90_100]\"],\"tickvals\":[\"age_bin[10_20]\",\"age_bin[50_60]\",\"age_bin[30_40]\",\"age_bin[60_70]\",\"age_bin[20_30]\",\"age_bin[40_50]\",\"demog_sex[Male]\",\"age_bin[80_90]\",\"age_bin[70_80]\",\"age_bin[90_100]\"],\"title\":{\"text\":\"\"}},\"template\":{\"data\":{\"histogram2dcontour\":[{\"type\":\"histogram2dcontour\",\"colorbar\":{\"outlinewidth\":0,\"ticks\":\"\"},\"colorscale\":[[0.0,\"#0d0887\"],[0.1111111111111111,\"#46039f\"],[0.2222222222222222,\"#7201a8\"],[0.3333333333333333,\"#9c179e\"],[0.4444444444444444,\"#bd3786\"],[0.5555555555555556,\"#d8576b\"],[0.6666666666666666,\"#ed7953\"],[0.7777777777777778,\"#fb9f3a\"],[0.8888888888888888,\"#fdca26\"],[1.0,\"#f0f921\"]]}],\"choropleth\":[{\"type\":\"choropleth\",\"colorbar\":{\"outlinewidth\":0,\"ticks\":\"\"}}],\"histogram2d\":[{\"type\":\"histogram2d\",\"colorbar\":{\"outlinewidth\":0,\"ticks\":\"\"},\"colorscale\":[[0.0,\"#0d0887\"],[0.1111111111111111,\"#46039f\"],[0.2222222222222222,\"#7201a8\"],[0.3333333333333333,\"#9c179e\"],[0.4444444444444444,\"#bd3786\"],[0.5555555555555556,\"#d8576b\"],[0.6666666666666666,\"#ed7953\"],[0.7777777777777778,\"#fb9f3a\"],[0.8888888888888888,\"#fdca26\"],[1.0,\"#f0f921\"]]}],\"heatmap\":[{\"type\":\"heatmap\",\"colorbar\":{\"outlinewidth\":0,\"ticks\":\"\"},\"colorscale\":[[0.0,\"#0d0887\"],[0.1111111111111111,\"#46039f\"],[0.2222222222222222,\"#7201a8\"],[0.3333333333333333,\"#9c179e\"],[0.4444444444444444,\"#bd3786\"],[0.5555555555555556,\"#d8576b\"],[0.6666666666666666,\"#ed7953\"],[0.7777777777777778,\"#fb9f3a\"],[0.8888888888888888,\"#fdca26\"],[1.0,\"#f0f921\"]]}],\"heatmapgl\":[{\"type\":\"heatmapgl\",\"colorbar\":{\"outlinewidth\":0,\"ticks\":\"\"},\"colorscale\":[[0.0,\"#0d0887\"],[0.1111111111111111,\"#46039f\"],[0.2222222222222222,\"#7201a8\"],[0.3333333333333333,\"#9c179e\"],[0.4444444444444444,\"#bd3786\"],[0.5555555555555556,\"#d8576b\"],[0.6666666666666666,\"#ed7953\"],[0.7777777777777778,\"#fb9f3a\"],[0.8888888888888888,\"#fdca26\"],[1.0,\"#f0f921\"]]}],\"contourcarpet\":[{\"type\":\"contourcarpet\",\"colorbar\":{\"outlinewidth\":0,\"ticks\":\"\"}}],\"contour\":[{\"type\":\"contour\",\"colorbar\":{\"outlinewidth\":0,\"ticks\":\"\"},\"colorscale\":[[0.0,\"#0d0887\"],[0.1111111111111111,\"#46039f\"],[0.2222222222222222,\"#7201a8\"],[0.3333333333333333,\"#9c179e\"],[0.4444444444444444,\"#bd3786\"],[0.5555555555555556,\"#d8576b\"],[0.6666666666666666,\"#ed7953\"],[0.7777777777777778,\"#fb9f3a\"],[0.8888888888888888,\"#fdca26\"],[1.0,\"#f0f921\"]]}],\"surface\":[{\"type\":\"surface\",\"colorbar\":{\"outlinewidth\":0,\"ticks\":\"\"},\"colorscale\":[[0.0,\"#0d0887\"],[0.1111111111111111,\"#46039f\"],[0.2222222222222222,\"#7201a8\"],[0.3333333333333333,\"#9c179e\"],[0.4444444444444444,\"#bd3786\"],[0.5555555555555556,\"#d8576b\"],[0.6666666666666666,\"#ed7953\"],[0.7777777777777778,\"#fb9f3a\"],[0.8888888888888888,\"#fdca26\"],[1.0,\"#f0f921\"]]}],\"mesh3d\":[{\"type\":\"mesh3d\",\"colorbar\":{\"outlinewidth\":0,\"ticks\":\"\"}}],\"scatter\":[{\"fillpattern\":{\"fillmode\":\"overlay\",\"size\":10,\"solidity\":0.2},\"type\":\"scatter\"}],\"parcoords\":[{\"type\":\"parcoords\",\"line\":{\"colorbar\":{\"outlinewidth\":0,\"ticks\":\"\"}}}],\"scatterpolargl\":[{\"type\":\"scatterpolargl\",\"marker\":{\"colorbar\":{\"outlinewidth\":0,\"ticks\":\"\"}}}],\"bar\":[{\"error_x\":{\"color\":\"#2a3f5f\"},\"error_y\":{\"color\":\"#2a3f5f\"},\"marker\":{\"line\":{\"color\":\"#E5ECF6\",\"width\":0.5},\"pattern\":{\"fillmode\":\"overlay\",\"size\":10,\"solidity\":0.2}},\"type\":\"bar\"}],\"scattergeo\":[{\"type\":\"scattergeo\",\"marker\":{\"colorbar\":{\"outlinewidth\":0,\"ticks\":\"\"}}}],\"scatterpolar\":[{\"type\":\"scatterpolar\",\"marker\":{\"colorbar\":{\"outlinewidth\":0,\"ticks\":\"\"}}}],\"histogram\":[{\"marker\":{\"pattern\":{\"fillmode\":\"overlay\",\"size\":10,\"solidity\":0.2}},\"type\":\"histogram\"}],\"scattergl\":[{\"type\":\"scattergl\",\"marker\":{\"colorbar\":{\"outlinewidth\":0,\"ticks\":\"\"}}}],\"scatter3d\":[{\"type\":\"scatter3d\",\"line\":{\"colorbar\":{\"outlinewidth\":0,\"ticks\":\"\"}},\"marker\":{\"colorbar\":{\"outlinewidth\":0,\"ticks\":\"\"}}}],\"scattermapbox\":[{\"type\":\"scattermapbox\",\"marker\":{\"colorbar\":{\"outlinewidth\":0,\"ticks\":\"\"}}}],\"scatterternary\":[{\"type\":\"scatterternary\",\"marker\":{\"colorbar\":{\"outlinewidth\":0,\"ticks\":\"\"}}}],\"scattercarpet\":[{\"type\":\"scattercarpet\",\"marker\":{\"colorbar\":{\"outlinewidth\":0,\"ticks\":\"\"}}}],\"carpet\":[{\"aaxis\":{\"endlinecolor\":\"#2a3f5f\",\"gridcolor\":\"white\",\"linecolor\":\"white\",\"minorgridcolor\":\"white\",\"startlinecolor\":\"#2a3f5f\"},\"baxis\":{\"endlinecolor\":\"#2a3f5f\",\"gridcolor\":\"white\",\"linecolor\":\"white\",\"minorgridcolor\":\"white\",\"startlinecolor\":\"#2a3f5f\"},\"type\":\"carpet\"}],\"table\":[{\"cells\":{\"fill\":{\"color\":\"#EBF0F8\"},\"line\":{\"color\":\"white\"}},\"header\":{\"fill\":{\"color\":\"#C8D4E3\"},\"line\":{\"color\":\"white\"}},\"type\":\"table\"}],\"barpolar\":[{\"marker\":{\"line\":{\"color\":\"#E5ECF6\",\"width\":0.5},\"pattern\":{\"fillmode\":\"overlay\",\"size\":10,\"solidity\":0.2}},\"type\":\"barpolar\"}],\"pie\":[{\"automargin\":true,\"type\":\"pie\"}]},\"layout\":{\"autotypenumbers\":\"strict\",\"colorway\":[\"#636efa\",\"#EF553B\",\"#00cc96\",\"#ab63fa\",\"#FFA15A\",\"#19d3f3\",\"#FF6692\",\"#B6E880\",\"#FF97FF\",\"#FECB52\"],\"font\":{\"color\":\"#2a3f5f\"},\"hovermode\":\"closest\",\"hoverlabel\":{\"align\":\"left\"},\"paper_bgcolor\":\"white\",\"plot_bgcolor\":\"#E5ECF6\",\"polar\":{\"bgcolor\":\"#E5ECF6\",\"angularaxis\":{\"gridcolor\":\"white\",\"linecolor\":\"white\",\"ticks\":\"\"},\"radialaxis\":{\"gridcolor\":\"white\",\"linecolor\":\"white\",\"ticks\":\"\"}},\"ternary\":{\"bgcolor\":\"#E5ECF6\",\"aaxis\":{\"gridcolor\":\"white\",\"linecolor\":\"white\",\"ticks\":\"\"},\"baxis\":{\"gridcolor\":\"white\",\"linecolor\":\"white\",\"ticks\":\"\"},\"caxis\":{\"gridcolor\":\"white\",\"linecolor\":\"white\",\"ticks\":\"\"}},\"coloraxis\":{\"colorbar\":{\"outlinewidth\":0,\"ticks\":\"\"}},\"colorscale\":{\"sequential\":[[0.0,\"#0d0887\"],[0.1111111111111111,\"#46039f\"],[0.2222222222222222,\"#7201a8\"],[0.3333333333333333,\"#9c179e\"],[0.4444444444444444,\"#bd3786\"],[0.5555555555555556,\"#d8576b\"],[0.6666666666666666,\"#ed7953\"],[0.7777777777777778,\"#fb9f3a\"],[0.8888888888888888,\"#fdca26\"],[1.0,\"#f0f921\"]],\"sequentialminus\":[[0.0,\"#0d0887\"],[0.1111111111111111,\"#46039f\"],[0.2222222222222222,\"#7201a8\"],[0.3333333333333333,\"#9c179e\"],[0.4444444444444444,\"#bd3786\"],[0.5555555555555556,\"#d8576b\"],[0.6666666666666666,\"#ed7953\"],[0.7777777777777778,\"#fb9f3a\"],[0.8888888888888888,\"#fdca26\"],[1.0,\"#f0f921\"]],\"diverging\":[[0,\"#8e0152\"],[0.1,\"#c51b7d\"],[0.2,\"#de77ae\"],[0.3,\"#f1b6da\"],[0.4,\"#fde0ef\"],[0.5,\"#f7f7f7\"],[0.6,\"#e6f5d0\"],[0.7,\"#b8e186\"],[0.8,\"#7fbc41\"],[0.9,\"#4d9221\"],[1,\"#276419\"]]},\"xaxis\":{\"gridcolor\":\"white\",\"linecolor\":\"white\",\"ticks\":\"\",\"title\":{\"standoff\":15},\"zerolinecolor\":\"white\",\"automargin\":true,\"zerolinewidth\":2},\"yaxis\":{\"gridcolor\":\"white\",\"linecolor\":\"white\",\"ticks\":\"\",\"title\":{\"standoff\":15},\"zerolinecolor\":\"white\",\"automargin\":true,\"zerolinewidth\":2},\"scene\":{\"xaxis\":{\"backgroundcolor\":\"#E5ECF6\",\"gridcolor\":\"white\",\"linecolor\":\"white\",\"showbackground\":true,\"ticks\":\"\",\"zerolinecolor\":\"white\",\"gridwidth\":2},\"yaxis\":{\"backgroundcolor\":\"#E5ECF6\",\"gridcolor\":\"white\",\"linecolor\":\"white\",\"showbackground\":true,\"ticks\":\"\",\"zerolinecolor\":\"white\",\"gridwidth\":2},\"zaxis\":{\"backgroundcolor\":\"#E5ECF6\",\"gridcolor\":\"white\",\"linecolor\":\"white\",\"showbackground\":true,\"ticks\":\"\",\"zerolinecolor\":\"white\",\"gridwidth\":2}},\"shapedefaults\":{\"line\":{\"color\":\"#2a3f5f\"}},\"annotationdefaults\":{\"arrowcolor\":\"#2a3f5f\",\"arrowhead\":0,\"arrowwidth\":1},\"geo\":{\"bgcolor\":\"white\",\"landcolor\":\"#E5ECF6\",\"subunitcolor\":\"white\",\"showland\":true,\"showlakes\":true,\"lakecolor\":\"white\"},\"title\":{\"x\":0.05},\"mapbox\":{\"style\":\"light\"}}}},                        {\"responsive\": true}                    ).then(function(){\n",
              "                            \n",
              "var gd = document.getElementById('011a48ef-c392-4faa-a206-a53cb8743033');\n",
              "var x = new MutationObserver(function (mutations, observer) {{\n",
              "        var display = window.getComputedStyle(gd).display;\n",
              "        if (!display || display === 'none') {{\n",
              "            console.log([gd, 'removed!']);\n",
              "            Plotly.purge(gd);\n",
              "            observer.disconnect();\n",
              "        }}\n",
              "}});\n",
              "\n",
              "// Listen for the removal of the full notebook cells\n",
              "var notebookContainer = gd.closest('#notebook-container');\n",
              "if (notebookContainer) {{\n",
              "    x.observe(notebookContainer, {childList: true});\n",
              "}}\n",
              "\n",
              "// Listen for the clearing of the current output cell\n",
              "var outputEl = gd.closest('.output');\n",
              "if (outputEl) {{\n",
              "    x.observe(outputEl, {childList: true});\n",
              "}}\n",
              "\n",
              "                        })                };                            </script>        </div>\n",
              "</body>\n",
              "</html>"
            ]
          },
          "metadata": {}
        }
      ]
    },
    {
      "cell_type": "markdown",
      "source": [
        "---\n",
        "\n",
        "# References\n",
        "\n",
        "* To learn more about numpy library, please go to the <a name='id_1'> <a href='https://numpy.org/'>Numpy WebPage</a>\n",
        "<br>\n",
        "\n",
        "* To learn more about pandas library, please go to the <a name='id_2'> <a href='https://pandas.pydata.org/'>Pandas WebPage</a>\n",
        "<br>\n",
        "\n",
        "* To learn more about statsmodels library, please go to the<a name='id_3'> <a href='https://www.statsmodels.org/stable/index.html'>StatsModels WebPage</a>\n",
        "<br>\n",
        "\n",
        "* To learn more about the Pip command, please go to the <a name='pip'>\n",
        "<a href='https://pypi.org/project/pip/'>Pip WebPage</a>\n",
        "<br>\n"
      ],
      "metadata": {
        "id": "lKvhtuV-AzW4"
      }
    }
  ]
}